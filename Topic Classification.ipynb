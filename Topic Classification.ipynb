{
 "cells": [
  {
   "cell_type": "markdown",
   "metadata": {},
   "source": [
    " ## Overall Observation:\n",
    " ### Data pre-processing\n",
    "    1. Data pre-processing: there are 2404 sentenses where sent tokenize did not work because bad sentence formation in review, for eg 'them.you', 'segment.using'\n",
    "    2. 37 occurences where comma could not be segregated from word, for eg: 'back,2mp', 'september,2017'\n",
    "    3. 37 non-english, Indian local language words\n",
    "    4. 217 words with emoji and symbols\n",
    "    5. There are few single words-chars which need treatment, There are Hindi words written in english which need removal\n",
    "        \n",
    "### Model Overview\n",
    "    1. First model created with 12 topics. 3 topics are clearly segregated but rest 9 are spirally overlapping with each other. That means we need much less than 12 topics\n",
    "    2. Second model created with 4 Topics, which has better performance but cohenece score was around 0.41. Also, two topics were almost overlapping with each other.\n",
    "    3. Third model created with 3 Topics. This time we got non-overlapping topic with a coherence scopre of 0.512\n",
    "    4. After few parameters tuning, I achieved a coherence score of 0.56\n",
    "    \n",
    "    **Final Model: Final model has 3 topics and a coherence score of 0.56**\n",
    "    \n",
    "### Topics Overview:\n",
    "    3 topics can be categorized as below. Their top 10 words are list as well.\n",
    "        1. Customer Service Experience\n",
    "        2. Phone performance and hardware\n",
    "        3. Phone features and user experience \n",
    "\n",
    "    \n",
    "            Customer Service Experience\n",
    "            -------------------------------\n",
    "                product\n",
    "                problem\n",
    "                issue\n",
    "                money\n",
    "                heating\n",
    "                network\n",
    "                month\n",
    "                time\n",
    "                day\n",
    "                service\n",
    "            -------------------------------\n",
    "\n",
    "\n",
    "             Phone performance and hardware\n",
    "            -------------------------------\n",
    "                camera\n",
    "                battery\n",
    "                quality\n",
    "                price\n",
    "                feature\n",
    "                performance\n",
    "                backup\n",
    "                day\n",
    "                hour\n",
    "                range\n",
    "            -------------------------------\n",
    "\n",
    "\n",
    "             Phone features and user experience\n",
    "            -------------------------------\n",
    "                note\n",
    "                lenovo\n",
    "                screen\n",
    "                call\n",
    "                update\n",
    "                software\n",
    "                charger\n",
    "                sim\n",
    "                option\n",
    "                delivery\n",
    "            -------------------------------\n",
    "\n",
    "\n",
    "        "
   ]
  },
  {
   "cell_type": "code",
   "execution_count": null,
   "metadata": {},
   "outputs": [],
   "source": [
    "import os\n",
    "os.chdir(r'E:\\Simplilearn\\Cohort 3 - Jan\\PG DS - NLP _ Jul 25 - Aug 23 _ Shanti Swaroop (Cohort 3)\\Project')"
   ]
  },
  {
   "cell_type": "markdown",
   "metadata": {},
   "source": [
    "## Reading File"
   ]
  },
  {
   "cell_type": "code",
   "execution_count": 2,
   "metadata": {},
   "outputs": [],
   "source": [
    "import pandas as pd\n",
    "import numpy as np"
   ]
  },
  {
   "cell_type": "code",
   "execution_count": 3,
   "metadata": {},
   "outputs": [],
   "source": [
    "data = pd.read_csv('K8 Reviews v0.2.csv')"
   ]
  },
  {
   "cell_type": "code",
   "execution_count": 4,
   "metadata": {},
   "outputs": [
    {
     "data": {
      "text/html": [
       "<div>\n",
       "<style scoped>\n",
       "    .dataframe tbody tr th:only-of-type {\n",
       "        vertical-align: middle;\n",
       "    }\n",
       "\n",
       "    .dataframe tbody tr th {\n",
       "        vertical-align: top;\n",
       "    }\n",
       "\n",
       "    .dataframe thead th {\n",
       "        text-align: right;\n",
       "    }\n",
       "</style>\n",
       "<table border=\"1\" class=\"dataframe\">\n",
       "  <thead>\n",
       "    <tr style=\"text-align: right;\">\n",
       "      <th></th>\n",
       "      <th>sentiment</th>\n",
       "      <th>review</th>\n",
       "    </tr>\n",
       "  </thead>\n",
       "  <tbody>\n",
       "    <tr>\n",
       "      <th>0</th>\n",
       "      <td>1</td>\n",
       "      <td>Good but need updates and improvements</td>\n",
       "    </tr>\n",
       "    <tr>\n",
       "      <th>1</th>\n",
       "      <td>0</td>\n",
       "      <td>Worst mobile i have bought ever, Battery is dr...</td>\n",
       "    </tr>\n",
       "    <tr>\n",
       "      <th>2</th>\n",
       "      <td>1</td>\n",
       "      <td>when I will get my 10% cash back.... its alrea...</td>\n",
       "    </tr>\n",
       "    <tr>\n",
       "      <th>3</th>\n",
       "      <td>1</td>\n",
       "      <td>Good</td>\n",
       "    </tr>\n",
       "    <tr>\n",
       "      <th>4</th>\n",
       "      <td>0</td>\n",
       "      <td>The worst phone everThey have changed the last...</td>\n",
       "    </tr>\n",
       "  </tbody>\n",
       "</table>\n",
       "</div>"
      ],
      "text/plain": [
       "   sentiment                                             review\n",
       "0          1             Good but need updates and improvements\n",
       "1          0  Worst mobile i have bought ever, Battery is dr...\n",
       "2          1  when I will get my 10% cash back.... its alrea...\n",
       "3          1                                               Good\n",
       "4          0  The worst phone everThey have changed the last..."
      ]
     },
     "execution_count": 4,
     "metadata": {},
     "output_type": "execute_result"
    }
   ],
   "source": [
    "data.head()"
   ]
  },
  {
   "cell_type": "code",
   "execution_count": 5,
   "metadata": {},
   "outputs": [
    {
     "data": {
      "text/plain": [
       "(14675, 2)"
      ]
     },
     "execution_count": 5,
     "metadata": {},
     "output_type": "execute_result"
    }
   ],
   "source": [
    "data.shape"
   ]
  },
  {
   "cell_type": "markdown",
   "metadata": {},
   "source": [
    "### checking data bias"
   ]
  },
  {
   "cell_type": "code",
   "execution_count": 6,
   "metadata": {},
   "outputs": [
    {
     "data": {
      "text/plain": [
       "0    7712\n",
       "1    6963\n",
       "Name: sentiment, dtype: int64"
      ]
     },
     "execution_count": 6,
     "metadata": {},
     "output_type": "execute_result"
    }
   ],
   "source": [
    "data.sentiment.value_counts()"
   ]
  },
  {
   "cell_type": "code",
   "execution_count": 7,
   "metadata": {},
   "outputs": [
    {
     "data": {
      "text/plain": [
       "(14675, 2)"
      ]
     },
     "execution_count": 7,
     "metadata": {},
     "output_type": "execute_result"
    }
   ],
   "source": [
    "data.shape"
   ]
  },
  {
   "cell_type": "markdown",
   "metadata": {},
   "source": [
    "### Convert to lower case"
   ]
  },
  {
   "cell_type": "code",
   "execution_count": 8,
   "metadata": {},
   "outputs": [],
   "source": [
    "reviews_lower = list(data.review.str.lower().values)"
   ]
  },
  {
   "cell_type": "code",
   "execution_count": 9,
   "metadata": {},
   "outputs": [
    {
     "data": {
      "text/plain": [
       "['good but need updates and improvements',\n",
       " \"worst mobile i have bought ever, battery is draining like hell, backup is only 6 to 7 hours with internet uses, even if i put mobile idle its getting discharged.this is biggest lie from amazon & lenove which is not at all expected, they are making full by saying that battery is 4000mah & booster charger is fake, it takes at least 4 to 5 hours to be fully charged.don't know how lenovo will survive by making full of us.please don;t go for this else you will regret like me.\",\n",
       " 'when i will get my 10% cash back.... its already 15 january..']"
      ]
     },
     "execution_count": 9,
     "metadata": {},
     "output_type": "execute_result"
    }
   ],
   "source": [
    "reviews_lower[0:3]"
   ]
  },
  {
   "cell_type": "markdown",
   "metadata": {},
   "source": [
    "### Special processing to keep sentence structure proper"
   ]
  },
  {
   "cell_type": "code",
   "execution_count": 10,
   "metadata": {},
   "outputs": [],
   "source": [
    "import re"
   ]
  },
  {
   "cell_type": "code",
   "execution_count": 11,
   "metadata": {},
   "outputs": [],
   "source": [
    "patt_1 = re.compile('\\.')\n",
    "patt_2 = re.compile(',')\n",
    "patt_3 = re.compile('[^\\w\\s]')\n",
    "patt_4 = re.compile('\\d')\n",
    "\n",
    "reviews_lower = [re.sub(patt_1, ' . ', sent) for sent in reviews_lower]\n",
    "reviews_lower = [re.sub(patt_2, ' , ', sent) for sent in reviews_lower]\n",
    "reviews_lower = [re.sub(patt_3, '', sent) for sent in reviews_lower]\n",
    "reviews_lower = [re.sub(patt_4, '', sent) for sent in reviews_lower]\n",
    "\n",
    "\n"
   ]
  },
  {
   "cell_type": "code",
   "execution_count": 12,
   "metadata": {},
   "outputs": [
    {
     "data": {
      "text/plain": [
       "['good but need updates and improvements',\n",
       " 'worst mobile i have bought ever   battery is draining like hell   backup is only  to  hours with internet uses   even if i put mobile idle its getting discharged  this is biggest lie from amazon  lenove which is not at all expected   they are making full by saying that battery is mah  booster charger is fake   it takes at least  to  hours to be fully charged  dont know how lenovo will survive by making full of us  please dont go for this else you will regret like me  ',\n",
       " 'when i will get my  cash back         its already  january    ',\n",
       " 'good',\n",
       " 'the worst phone everthey have changed the last phone but the problem is still same and the amazon is not returning the phone   highly disappointing of amazon',\n",
       " 'only im telling dont buyim totally disappointedpoor batterypoor camerawaste of money',\n",
       " 'phone is awesome   but while charging   it heats up allot    really a genuine reason to hate lenovo k note',\n",
       " 'the battery level has worn down',\n",
       " 'its over hitting problems      and phone hanging problems lenovo k  note      so where is service station in ahmedabad its one years warranty so its can change the phone by lenovo',\n",
       " 'a lot of glitches dont buy this thing better go for some other options']"
      ]
     },
     "execution_count": 12,
     "metadata": {},
     "output_type": "execute_result"
    }
   ],
   "source": [
    "reviews_lower[0:10]"
   ]
  },
  {
   "cell_type": "code",
   "execution_count": null,
   "metadata": {},
   "outputs": [],
   "source": []
  },
  {
   "cell_type": "markdown",
   "metadata": {},
   "source": [
    "## Tokenize "
   ]
  },
  {
   "cell_type": "code",
   "execution_count": 13,
   "metadata": {},
   "outputs": [],
   "source": [
    "from nltk import sent_tokenize, word_tokenize"
   ]
  },
  {
   "cell_type": "code",
   "execution_count": 14,
   "metadata": {},
   "outputs": [],
   "source": [
    "review_sent_token = [sent_tokenize(para) for para in reviews_lower]"
   ]
  },
  {
   "cell_type": "code",
   "execution_count": 15,
   "metadata": {},
   "outputs": [],
   "source": [
    "word_tokens = []\n",
    "for review in review_sent_token:\n",
    "    for sent in review:\n",
    "        word_tokens.append(word_tokenize(sent))    \n"
   ]
  },
  {
   "cell_type": "code",
   "execution_count": 16,
   "metadata": {},
   "outputs": [
    {
     "data": {
      "text/plain": [
       "14663"
      ]
     },
     "execution_count": 16,
     "metadata": {},
     "output_type": "execute_result"
    }
   ],
   "source": [
    "len(word_tokens)"
   ]
  },
  {
   "cell_type": "markdown",
   "metadata": {},
   "source": [
    "## POS Tagging"
   ]
  },
  {
   "cell_type": "code",
   "execution_count": 17,
   "metadata": {},
   "outputs": [],
   "source": [
    "from nltk import pos_tag"
   ]
  },
  {
   "cell_type": "code",
   "execution_count": 18,
   "metadata": {},
   "outputs": [],
   "source": [
    "review_pos_tags= [pos_tag(tokens) for tokens in word_tokens]"
   ]
  },
  {
   "cell_type": "markdown",
   "metadata": {},
   "source": [
    "### Filter Noun only tags"
   ]
  },
  {
   "cell_type": "code",
   "execution_count": 20,
   "metadata": {},
   "outputs": [],
   "source": [
    "nouns_tag = [[tag for tag, pos in doc if pos.startswith('NN') ] for doc in review_pos_tags ]"
   ]
  },
  {
   "cell_type": "markdown",
   "metadata": {},
   "source": [
    "## Remove Stopwords and Punctuation "
   ]
  },
  {
   "cell_type": "code",
   "execution_count": 21,
   "metadata": {},
   "outputs": [],
   "source": [
    "from string import punctuation \n",
    "from nltk.corpus import stopwords "
   ]
  },
  {
   "cell_type": "code",
   "execution_count": 22,
   "metadata": {},
   "outputs": [],
   "source": [
    "stop_words = list(punctuation) + stopwords.words('english')"
   ]
  },
  {
   "cell_type": "code",
   "execution_count": 79,
   "metadata": {},
   "outputs": [],
   "source": [
    "context_stop_words = ['phone', 'mobile', 'cell', 'amazon', 'k8', 'k', 'ka', 'please', 'g', 'h', 'hai']"
   ]
  },
  {
   "cell_type": "code",
   "execution_count": 80,
   "metadata": {},
   "outputs": [],
   "source": [
    "all_stop_words = stop_words + context_stop_words"
   ]
  },
  {
   "cell_type": "code",
   "execution_count": 81,
   "metadata": {},
   "outputs": [],
   "source": [
    "nouns_post_sw = [[word for word in doc if word not in all_stop_words ] for doc in nouns_tag]"
   ]
  },
  {
   "cell_type": "code",
   "execution_count": 82,
   "metadata": {},
   "outputs": [
    {
     "data": {
      "text/plain": [
       "14663"
      ]
     },
     "execution_count": 82,
     "metadata": {},
     "output_type": "execute_result"
    }
   ],
   "source": [
    "len(nouns_post_sw)"
   ]
  },
  {
   "cell_type": "markdown",
   "metadata": {},
   "source": [
    "## Lemmetize "
   ]
  },
  {
   "cell_type": "code",
   "execution_count": 27,
   "metadata": {},
   "outputs": [],
   "source": [
    "from nltk.stem import WordNetLemmatizer"
   ]
  },
  {
   "cell_type": "code",
   "execution_count": 28,
   "metadata": {},
   "outputs": [],
   "source": [
    "wl = WordNetLemmatizer()"
   ]
  },
  {
   "cell_type": "code",
   "execution_count": 83,
   "metadata": {},
   "outputs": [],
   "source": [
    "nouns_lemmetized = [ [ wl.lemmatize(word) for word in doc ] for doc in nouns_post_sw]"
   ]
  },
  {
   "cell_type": "code",
   "execution_count": 53,
   "metadata": {},
   "outputs": [
    {
     "data": {
      "text/plain": [
       "14663"
      ]
     },
     "execution_count": 53,
     "metadata": {},
     "output_type": "execute_result"
    }
   ],
   "source": [
    "len(nouns_lemmetized)"
   ]
  },
  {
   "cell_type": "code",
   "execution_count": 84,
   "metadata": {},
   "outputs": [],
   "source": [
    "english_only_nouns = [[ word for word in doc if re.match('[a-z]', word) ] for doc in nouns_lemmetized]"
   ]
  },
  {
   "cell_type": "code",
   "execution_count": 64,
   "metadata": {},
   "outputs": [
    {
     "data": {
      "text/plain": [
       "14663"
      ]
     },
     "execution_count": 64,
     "metadata": {},
     "output_type": "execute_result"
    }
   ],
   "source": [
    "len(english_only_nouns)"
   ]
  },
  {
   "cell_type": "code",
   "execution_count": 86,
   "metadata": {},
   "outputs": [],
   "source": [
    "exp = [ noun for noun in english_only_nouns if any(noun)]"
   ]
  },
  {
   "cell_type": "code",
   "execution_count": 87,
   "metadata": {},
   "outputs": [
    {
     "data": {
      "text/plain": [
       "12594"
      ]
     },
     "execution_count": 87,
     "metadata": {},
     "output_type": "execute_result"
    }
   ],
   "source": [
    "len(exp)"
   ]
  },
  {
   "cell_type": "markdown",
   "metadata": {},
   "source": [
    "## Using LDA to create a topic model"
   ]
  },
  {
   "cell_type": "code",
   "execution_count": 32,
   "metadata": {},
   "outputs": [],
   "source": [
    "import gensim\n",
    "import gensim.corpora as corpora\n",
    "from gensim.models import CoherenceModel\n",
    "\n",
    "import pyLDAvis\n",
    "import pyLDAvis.gensim  # don't skip this\n",
    "import matplotlib.pyplot as plt\n",
    "%matplotlib inline"
   ]
  },
  {
   "cell_type": "code",
   "execution_count": 88,
   "metadata": {},
   "outputs": [],
   "source": [
    "id2word = corpora.Dictionary(english_only_nouns)\n",
    "texts = english_only_nouns\n",
    "corpus = [id2word.doc2bow(text) for text in texts]"
   ]
  },
  {
   "cell_type": "code",
   "execution_count": 89,
   "metadata": {},
   "outputs": [],
   "source": [
    "lda_model = gensim.models.ldamodel.LdaModel(corpus=corpus,\n",
    "                                           id2word=id2word,\n",
    "                                           num_topics=12, \n",
    "                                           random_state=100,\n",
    "                                           update_every=1,\n",
    "                                           chunksize=100,\n",
    "                                           passes=5,\n",
    "                                           alpha='auto',\n",
    "                                           per_word_topics=True)"
   ]
  },
  {
   "cell_type": "code",
   "execution_count": 119,
   "metadata": {},
   "outputs": [
    {
     "name": "stdout",
     "output_type": "stream",
     "text": [
      "Topic ID: 0\n",
      "value                0.1291103959083557\n",
      "system               0.10465578734874725\n",
      "expectation          0.07785967737436295\n",
      "number               0.06553763896226883\n",
      "internet             0.06366458535194397\n",
      "cover                0.0400787852704525\n",
      "hardware             0.02817434072494507\n",
      "iam                  0.025098353624343872\n",
      "recording            0.02279970422387123\n",
      "something            0.02242615632712841\n",
      "Topic ID: 1\n",
      "camera               0.27911949157714844\n",
      "quality              0.10801383852958679\n",
      "mode                 0.031352218240499496\n",
      "display              0.03051639348268509\n",
      "processor            0.030391190201044083\n",
      "speaker              0.026952629908919334\n",
      "use                  0.024446213617920876\n",
      "music                0.022135119885206223\n",
      "gb                   0.016046706587076187\n",
      "ram                  0.01591634191572666\n",
      "Topic ID: 2\n",
      "charger              0.10164657235145569\n",
      "waste                0.08217675983905792\n",
      "turbo                0.05367719382047653\n",
      "handset              0.053390927612781525\n",
      "return               0.05058399960398674\n",
      "budget               0.04731681942939758\n",
      "data                 0.0452711321413517\n",
      "volta                0.03534518554806709\n",
      "picture              0.03491947427392006\n",
      "u                    0.030211197212338448\n",
      "Topic ID: 3\n",
      "month                0.13800553977489471\n",
      "heat                 0.09278909862041473\n",
      "life                 0.08434908837080002\n",
      "video                0.06549201160669327\n",
      "company              0.03793048858642578\n",
      "purchase             0.03362850099802017\n",
      "application          0.027507221326231956\n",
      "flash                0.025750737637281418\n",
      "policy               0.025151316076517105\n",
      "till                 0.024835186079144478\n",
      "Topic ID: 4\n",
      "call                 0.13862070441246033\n",
      "sound                0.09416864067316055\n",
      "doesnt               0.06980035454034805\n",
      "card                 0.05436541885137558\n",
      "front                0.048504095524549484\n",
      "light                0.04523422569036484\n",
      "look                 0.04186083376407623\n",
      "specification        0.03212066739797592\n",
      "mp                   0.03184972330927849\n",
      "voice                0.02562061697244644\n",
      "Topic ID: 5\n",
      "time                 0.14371176064014435\n",
      "network              0.08766260743141174\n",
      "device               0.06984519213438034\n",
      "sim                  0.04378342255949974\n",
      "work                 0.03411976993083954\n",
      "android              0.03267349675297737\n",
      "support              0.03208991140127182\n",
      "stock                0.028323961421847343\n",
      "drain                0.02789553627371788\n",
      "signal               0.024586906656622887\n",
      "Topic ID: 6\n",
      "screen               0.10029076784849167\n",
      "option               0.057615749537944794\n",
      "delivery             0.05219441279768944\n",
      "lot                  0.05036751180887222\n",
      "bit                  0.04504726827144623\n",
      "glass                0.03455449640750885\n",
      "replacement          0.030344419181346893\n",
      "box                  0.029171694070100784\n",
      "key                  0.028791610151529312\n",
      "smartphone           0.023901494219899178\n",
      "Topic ID: 7\n",
      "hour                 0.10333821177482605\n",
      "charge               0.07625125348567963\n",
      "speed                0.06195848807692528\n",
      "mark                 0.0462154857814312\n",
      "usage                0.045734670013189316\n",
      "hr                   0.04433762654662132\n",
      "review               0.03893826901912689\n",
      "min                  0.03385525941848755\n",
      "effect               0.028151100501418114\n",
      "im                   0.025548456236720085\n",
      "Topic ID: 8\n",
      "battery              0.33362311124801636\n",
      "performance          0.09453209489583969\n",
      "heating              0.06670685857534409\n",
      "backup               0.055863164365291595\n",
      "update               0.04389851167798042\n",
      "dont                 0.042198456823825836\n",
      "software             0.039513953030109406\n",
      "everything           0.029370421543717384\n",
      "app                  0.021704185754060745\n",
      "apps                 0.019172303378582\n",
      "Topic ID: 9\n",
      "product              0.3342117667198181\n",
      "issue                0.21501444280147552\n",
      "service              0.06974613666534424\n",
      "customer             0.03495943918824196\n",
      "hang                 0.022552093490958214\n",
      "center               0.019839897751808167\n",
      "need                 0.01777147687971592\n",
      "week                 0.016457322984933853\n",
      "care                 0.016292540356516838\n",
      "cost                 0.014319740235805511\n",
      "Topic ID: 10\n",
      "problem              0.17525611817836761\n",
      "note                 0.12879866361618042\n",
      "day                  0.1083402931690216\n",
      "lenovo               0.08406595140695572\n",
      "phone                0.030329102650284767\n",
      "buy                  0.02996136248111725\n",
      "game                 0.022184906527400017\n",
      "experience           0.021412746980786324\n",
      "superb               0.02016896940767765\n",
      "dolby                0.01980731077492237\n",
      "Topic ID: 11\n",
      "price                0.19057776033878326\n",
      "feature              0.18744392693042755\n",
      "money                0.1314801573753357\n",
      "range                0.0783018097281456\n",
      "photo                0.0351397804915905\n",
      "refund               0.02800520695745945\n",
      "killer               0.026416271924972534\n",
      "worth                0.02520507201552391\n",
      "power                0.024349916726350784\n",
      "mi                   0.019181476905941963\n"
     ]
    }
   ],
   "source": [
    "for topic_id in range(12):\n",
    "    terms = lda_model.get_topic_terms(topic_id)\n",
    "    print(f'Topic ID: {topic_id}')\n",
    "    for tid, score in terms:\n",
    "        print(f'{id2word[tid]:{20}} {score}')\n",
    "    "
   ]
  },
  {
   "cell_type": "code",
   "execution_count": 90,
   "metadata": {},
   "outputs": [
    {
     "name": "stdout",
     "output_type": "stream",
     "text": [
      "[(0,\n",
      "  '0.129*\"value\" + 0.105*\"system\" + 0.078*\"expectation\" + 0.066*\"number\" + '\n",
      "  '0.064*\"internet\" + 0.040*\"cover\" + 0.028*\"hardware\" + 0.025*\"iam\" + '\n",
      "  '0.023*\"recording\" + 0.022*\"something\"'),\n",
      " (1,\n",
      "  '0.279*\"camera\" + 0.108*\"quality\" + 0.031*\"mode\" + 0.031*\"display\" + '\n",
      "  '0.030*\"processor\" + 0.027*\"speaker\" + 0.024*\"use\" + 0.022*\"music\" + '\n",
      "  '0.016*\"gb\" + 0.016*\"ram\"'),\n",
      " (2,\n",
      "  '0.102*\"charger\" + 0.082*\"waste\" + 0.054*\"turbo\" + 0.053*\"handset\" + '\n",
      "  '0.051*\"return\" + 0.047*\"budget\" + 0.045*\"data\" + 0.035*\"volta\" + '\n",
      "  '0.035*\"picture\" + 0.030*\"u\"'),\n",
      " (3,\n",
      "  '0.138*\"month\" + 0.093*\"heat\" + 0.084*\"life\" + 0.065*\"video\" + '\n",
      "  '0.038*\"company\" + 0.034*\"purchase\" + 0.028*\"application\" + 0.026*\"flash\" + '\n",
      "  '0.025*\"policy\" + 0.025*\"till\"'),\n",
      " (4,\n",
      "  '0.139*\"call\" + 0.094*\"sound\" + 0.070*\"doesnt\" + 0.054*\"card\" + '\n",
      "  '0.049*\"front\" + 0.045*\"light\" + 0.042*\"look\" + 0.032*\"specification\" + '\n",
      "  '0.032*\"mp\" + 0.026*\"voice\"'),\n",
      " (5,\n",
      "  '0.144*\"time\" + 0.088*\"network\" + 0.070*\"device\" + 0.044*\"sim\" + '\n",
      "  '0.034*\"work\" + 0.033*\"android\" + 0.032*\"support\" + 0.028*\"stock\" + '\n",
      "  '0.028*\"drain\" + 0.025*\"signal\"'),\n",
      " (6,\n",
      "  '0.100*\"screen\" + 0.058*\"option\" + 0.052*\"delivery\" + 0.050*\"lot\" + '\n",
      "  '0.045*\"bit\" + 0.035*\"glass\" + 0.030*\"replacement\" + 0.029*\"box\" + '\n",
      "  '0.029*\"key\" + 0.024*\"smartphone\"'),\n",
      " (7,\n",
      "  '0.103*\"hour\" + 0.076*\"charge\" + 0.062*\"speed\" + 0.046*\"mark\" + '\n",
      "  '0.046*\"usage\" + 0.044*\"hr\" + 0.039*\"review\" + 0.034*\"min\" + 0.028*\"effect\" '\n",
      "  '+ 0.026*\"im\"'),\n",
      " (8,\n",
      "  '0.334*\"battery\" + 0.095*\"performance\" + 0.067*\"heating\" + 0.056*\"backup\" + '\n",
      "  '0.044*\"update\" + 0.042*\"dont\" + 0.040*\"software\" + 0.029*\"everything\" + '\n",
      "  '0.022*\"app\" + 0.019*\"apps\"'),\n",
      " (9,\n",
      "  '0.334*\"product\" + 0.215*\"issue\" + 0.070*\"service\" + 0.035*\"customer\" + '\n",
      "  '0.023*\"hang\" + 0.020*\"center\" + 0.018*\"need\" + 0.016*\"week\" + 0.016*\"care\" '\n",
      "  '+ 0.014*\"cost\"'),\n",
      " (10,\n",
      "  '0.175*\"problem\" + 0.129*\"note\" + 0.108*\"day\" + 0.084*\"lenovo\" + '\n",
      "  '0.030*\"phone\" + 0.030*\"buy\" + 0.022*\"game\" + 0.021*\"experience\" + '\n",
      "  '0.020*\"superb\" + 0.020*\"dolby\"'),\n",
      " (11,\n",
      "  '0.191*\"price\" + 0.187*\"feature\" + 0.131*\"money\" + 0.078*\"range\" + '\n",
      "  '0.035*\"photo\" + 0.028*\"refund\" + 0.026*\"killer\" + 0.025*\"worth\" + '\n",
      "  '0.024*\"power\" + 0.019*\"mi\"')]\n"
     ]
    }
   ],
   "source": [
    "import pprint\n",
    "pprint.pprint(lda_model.print_topics())"
   ]
  },
  {
   "cell_type": "code",
   "execution_count": 91,
   "metadata": {},
   "outputs": [
    {
     "name": "stdout",
     "output_type": "stream",
     "text": [
      "\n",
      "Coherence Score:  0.4117204228480638\n"
     ]
    }
   ],
   "source": [
    "coherence_model_lda = CoherenceModel(model=lda_model, texts=english_only_nouns, dictionary=id2word, coherence='c_v')\n",
    "coherence_lda = coherence_model_lda.get_coherence()\n",
    "print('\\nCoherence Score: ', coherence_lda)"
   ]
  },
  {
   "cell_type": "code",
   "execution_count": 92,
   "metadata": {},
   "outputs": [
    {
     "name": "stdout",
     "output_type": "stream",
     "text": [
      "\n",
      "Perplexity:  -7.794105068532517\n"
     ]
    }
   ],
   "source": [
    "print('\\nPerplexity: ', lda_model.log_perplexity(corpus)) "
   ]
  },
  {
   "cell_type": "code",
   "execution_count": 98,
   "metadata": {
    "collapsed": true,
    "jupyter": {
     "outputs_hidden": true
    }
   },
   "outputs": [
    {
     "data": {
      "text/html": [
       "\n",
       "<link rel=\"stylesheet\" type=\"text/css\" href=\"https://cdn.rawgit.com/bmabey/pyLDAvis/files/ldavis.v1.0.0.css\">\n",
       "\n",
       "\n",
       "<div id=\"ldavis_el1152822572917777362914901039\"></div>\n",
       "<script type=\"text/javascript\">\n",
       "\n",
       "var ldavis_el1152822572917777362914901039_data = {\"mdsDat\": {\"x\": [0.38032532983412604, 0.0936822715212741, 0.1383382642710275, -0.0018570398630408172, -0.02365965490638307, -0.06011795404548231, -0.06498003925973125, -0.08347259537377551, -0.09016248101630757, -0.0878102828903705, -0.0965625231685888, -0.103723295102748], \"y\": [-0.2285823543175957, 0.1621951061653087, 0.3495020436027918, 0.0005339521128586888, -0.013693806740226005, -0.031273400636288466, -0.03259777092244272, -0.039325489568281934, -0.04121663388234623, -0.04048348003995582, -0.042749989794961134, -0.04230817597886075], \"topics\": [1, 2, 3, 4, 5, 6, 7, 8, 9, 10, 11, 12], \"cluster\": [1, 1, 1, 1, 1, 1, 1, 1, 1, 1, 1, 1], \"Freq\": [17.895267486572266, 13.741387367248535, 13.324287414550781, 9.301836967468262, 9.1803560256958, 7.568034648895264, 6.427259922027588, 6.092203140258789, 5.205465316772461, 5.1839280128479, 4.433657169342041, 1.6463104486465454]}, \"tinfo\": {\"Term\": [\"battery\", \"camera\", \"product\", \"problem\", \"issue\", \"note\", \"price\", \"feature\", \"quality\", \"time\", \"day\", \"performance\", \"money\", \"lenovo\", \"month\", \"screen\", \"call\", \"network\", \"heating\", \"hour\", \"charger\", \"service\", \"device\", \"backup\", \"heat\", \"range\", \"sound\", \"charge\", \"life\", \"waste\", \"camera\", \"quality\", \"mode\", \"display\", \"processor\", \"speaker\", \"use\", \"music\", \"gb\", \"ram\", \"thing\", \"depth\", \"charging\", \"clarity\", \"user\", \"contact\", \"thanks\", \"image\", \"memory\", \"core\", \"con\", \"condition\", \"x\", \"hand\", \"function\", \"version\", \"point\", \"guy\", \"management\", \"deca\", \"problem\", \"note\", \"day\", \"lenovo\", \"phone\", \"buy\", \"game\", \"experience\", \"superb\", \"dolby\", \"sensor\", \"touch\", \"button\", \"notification\", \"auto\", \"r\", \"fingerprint\", \"rest\", \"excellent\", \"mobile\", \"bhi\", \"warranty\", \"segment\", \"spec\", \"finger\", \"player\", \"year\", \"hi\", \"samsung\", \"jata\", \"battery\", \"performance\", \"heating\", \"backup\", \"update\", \"dont\", \"software\", \"everything\", \"app\", \"apps\", \"ho\", \"mah\", \"bug\", \"way\", \"super\", \"complaint\", \"plz\", \"one\", \"concern\", \"rating\", \"oreo\", \"fine\", \"choice\", \"beast\", \"wont\", \"saver\", \"thank\", \"others\", \"processer\", \"net\", \"product\", \"issue\", \"service\", \"customer\", \"hang\", \"center\", \"need\", \"week\", \"care\", \"cost\", \"set\", \"color\", \"cable\", \"n\", \"suggestion\", \"blur\", \"seller\", \"feel\", \"place\", \"complain\", \"percent\", \"china\", \"october\", \"dnt\", \"oct\", \"alarm\", \"matter\", \"faulty\", \"test\", \"fire\", \"time\", \"network\", \"device\", \"sim\", \"work\", \"android\", \"support\", \"stock\", \"drain\", \"signal\", \"slot\", \"star\", \"model\", \"jio\", \"lag\", \"people\", \"gallery\", \"class\", \"strength\", \"team\", \"connectivity\", \"lte\", \"friend\", \"tv\", \"bar\", \"reception\", \"level\", \"party\", \"motorola\", \"show\", \"screen\", \"option\", \"delivery\", \"lot\", \"bit\", \"glass\", \"replacement\", \"box\", \"key\", \"smartphone\", \"headphone\", \"cast\", \"piece\", \"nothing\", \"message\", \"earphone\", \"gorilla\", \"pls\", \"brand\", \"today\", \"volume\", \"gud\", \"brightness\", \"edge\", \"person\", \"fone\", \"accessory\", \"result\", \"fall\", \"amount\", \"price\", \"feature\", \"money\", \"range\", \"photo\", \"refund\", \"killer\", \"worth\", \"power\", \"mi\", \"sale\", \"response\", \"atmos\", \"offer\", \"headset\", \"market\", \"o\", \"face\", \"difference\", \"wastage\", \"hence\", \"split\", \"category\", \"second\", \"case\", \"daylight\", \"feeling\", \"everyone\", \"sell\", \"west\", \"hour\", \"charge\", \"speed\", \"mark\", \"usage\", \"hr\", \"review\", \"min\", \"effect\", \"im\", \"wifi\", \"minute\", \"awesome\", \"someone\", \"compare\", \"interface\", \"weight\", \"setting\", \"body\", \"selfie\", \"processing\", \"storage\", \"draining\", \"moto\", \"standby\", \"bokeh\", \"thats\", \"browsing\", \"idea\", \"buying\", \"month\", \"heat\", \"life\", \"video\", \"company\", \"purchase\", \"application\", \"flash\", \"policy\", \"till\", \"date\", \"part\", \"night\", \"v\", \"item\", \"anything\", \"nice\", \"get\", \"didnt\", \"maine\", \"good\", \"size\", \"play\", \"detail\", \"right\", \"word\", \"raha\", \"aspect\", \"morning\", \"access\", \"charger\", \"waste\", \"turbo\", \"handset\", \"return\", \"budget\", \"data\", \"volta\", \"picture\", \"u\", \"side\", \"pic\", \"connection\", \"cam\", \"etc\", \"design\", \"request\", \"pro\", \"nd\", \"bill\", \"centre\", \"improvement\", \"functionality\", \"pc\", \"hope\", \"reason\", \"suck\", \"fix\", \"start\", \"description\", \"call\", \"sound\", \"doesnt\", \"card\", \"front\", \"light\", \"look\", \"specification\", \"mp\", \"voice\", \"ok\", \"ko\", \"resolution\", \"facility\", \"recorder\", \"tray\", \"tha\", \"paper\", \"package\", \"vr\", \"defect\", \"claim\", \"deal\", \"vibe\", \"record\", \"nhi\", \"guard\", \"par\", \"packing\", \"mila\", \"value\", \"system\", \"expectation\", \"number\", \"internet\", \"cover\", \"hardware\", \"iam\", \"recording\", \"something\", \"check\", \"hell\", \"lack\", \"venom\", \"working\", \"tag\", \"technician\", \"reset\", \"mo\", \"buyback\", \"pricing\", \"takcall\", \"slide\", \"yday\", \"botb\", \"sealand\", \"towards\", \"weather\", \"provision\", \"resale\", \"moneycamera\", \"advertising\", \"effort\", \"replacementissues\", \"modelscast\", \"atmosamazon\", \"voltepower\", \"useless\"], \"Freq\": [3453.0, 3880.0, 2415.0, 1871.0, 1554.0, 1375.0, 952.0, 936.0, 1502.0, 1025.0, 1157.0, 979.0, 657.0, 898.0, 558.0, 590.0, 478.0, 625.0, 691.0, 489.0, 410.0, 504.0, 498.0, 579.0, 376.0, 391.0, 325.0, 361.0, 341.0, 331.0, 3879.09228515625, 1501.1336669921875, 435.7207336425781, 424.1047668457031, 422.36474609375, 374.5769958496094, 339.7438049316406, 307.6251525878906, 223.0107879638672, 221.1990203857422, 218.62696838378906, 213.05812072753906, 197.77114868164062, 182.2777557373047, 157.39732360839844, 155.1562957763672, 153.57962036132812, 142.032470703125, 132.94166564941406, 129.73097229003906, 122.225830078125, 114.69700622558594, 112.83867645263672, 97.81243896484375, 96.29647827148438, 95.2873306274414, 90.77165222167969, 86.4560317993164, 86.37577056884766, 85.20053100585938, 1870.2752685546875, 1374.4967041015625, 1156.1717529296875, 897.1240234375, 323.6621398925781, 319.73773193359375, 236.74998474121094, 228.50975036621094, 215.23655700683594, 211.37705993652344, 180.29550170898438, 163.12074279785156, 157.74996948242188, 147.69679260253906, 106.8318099975586, 100.98825073242188, 88.34718322753906, 86.31710815429688, 83.71268463134766, 69.1962661743164, 61.343074798583984, 56.29159164428711, 55.21536636352539, 53.98213195800781, 53.78557205200195, 52.6972770690918, 52.27518081665039, 48.980316162109375, 48.5205192565918, 47.7870979309082, 3452.246826171875, 978.1940307617188, 690.2655639648438, 578.0578002929688, 454.2506103515625, 436.65887451171875, 408.88031005859375, 303.9176330566406, 224.58938598632812, 198.39010620117188, 140.96487426757812, 115.82540130615234, 109.36489868164062, 101.55790710449219, 95.04522705078125, 86.60916137695312, 72.24303436279297, 67.47918701171875, 65.72503662109375, 62.748016357421875, 59.63203048706055, 49.301517486572266, 49.02006149291992, 42.8566780090332, 39.50522994995117, 39.312686920166016, 38.9091796875, 37.622108459472656, 36.502838134765625, 36.232173919677734, 2414.305419921875, 1553.2384033203125, 503.8376770019531, 252.5427703857422, 162.91360473632812, 143.32102966308594, 128.37901306152344, 118.8857192993164, 117.69534301757812, 103.44407653808594, 98.5547103881836, 89.19280242919922, 73.62957763671875, 72.16826629638672, 68.22925567626953, 53.98371505737305, 47.73749923706055, 44.036556243896484, 43.71217346191406, 40.59623718261719, 29.882381439208984, 29.400609970092773, 28.83673095703125, 28.820703506469727, 26.820026397705078, 24.47001838684082, 24.228618621826172, 23.519222259521484, 23.15713882446289, 23.120521545410156, 1024.59814453125, 624.99365234375, 497.9637756347656, 312.15545654296875, 243.2581024169922, 232.9468536376953, 228.78616333007812, 201.9366912841797, 198.88221740722656, 175.29322814941406, 164.5783233642578, 157.16127014160156, 156.89505004882812, 148.8333740234375, 128.2756805419922, 97.3134994506836, 94.7562484741211, 85.39252471923828, 73.48576354980469, 72.16216278076172, 67.96717834472656, 55.01095199584961, 54.198768615722656, 53.232601165771484, 47.396976470947266, 44.883968353271484, 43.365699768066406, 43.32317352294922, 41.783355712890625, 41.00897216796875, 589.4484252929688, 338.6304931640625, 306.76715087890625, 296.02972412109375, 264.76055908203125, 203.0904083251953, 178.34613037109375, 171.45355224609375, 169.2196502685547, 140.478515625, 133.38755798339844, 129.90834045410156, 128.39695739746094, 126.75496673583984, 118.62387084960938, 106.81824493408203, 106.67540740966797, 99.72505187988281, 97.99278259277344, 85.53550720214844, 83.40045928955078, 74.6934814453125, 71.74640655517578, 62.001338958740234, 60.31414794921875, 54.40132141113281, 54.121612548828125, 50.47964096069336, 49.32063674926758, 49.177310943603516, 951.26123046875, 935.6188354492188, 656.2779541015625, 390.8403625488281, 175.3988037109375, 139.786865234375, 131.8557586669922, 125.81010437011719, 121.54163360595703, 95.74357604980469, 76.12765502929688, 69.75442504882812, 64.49699401855469, 61.700401306152344, 48.45705032348633, 36.76247024536133, 36.305213928222656, 35.43132781982422, 34.107303619384766, 30.40468978881836, 29.177927017211914, 22.764814376831055, 22.697132110595703, 20.92798614501953, 20.411699295043945, 14.651156425476074, 13.864742279052734, 12.886130332946777, 10.62112045288086, 10.351326942443848, 488.91912841796875, 360.7638854980469, 293.1412353515625, 218.65711975097656, 216.3822479248047, 209.77249145507812, 184.2267608642578, 160.17776489257812, 133.18995666503906, 120.87619018554688, 106.54452514648438, 106.05233001708984, 76.20734405517578, 71.95675659179688, 64.56122589111328, 61.73231887817383, 59.96456527709961, 58.20686340332031, 57.736907958984375, 57.64732360839844, 56.581939697265625, 53.44966125488281, 52.09380340576172, 48.98369598388672, 45.638206481933594, 45.4251594543457, 42.91151428222656, 41.20469665527344, 38.15462112426758, 37.017372131347656, 557.9019165039062, 375.1097106933594, 340.9900817871094, 264.75836181640625, 153.33799743652344, 135.94676208496094, 111.20084381103516, 104.1000747680664, 101.67684936523438, 100.39886474609375, 75.51576232910156, 65.95454406738281, 64.32805633544922, 61.70164108276367, 58.54090881347656, 56.71333694458008, 55.472232818603516, 52.06291580200195, 47.62920379638672, 46.088409423828125, 43.27838897705078, 41.84996795654297, 34.04257583618164, 32.58167266845703, 30.2659912109375, 29.313676834106445, 28.547992706298828, 28.467214584350586, 28.027631759643555, 24.878673553466797, 409.2168273925781, 330.8337097167969, 216.097900390625, 214.94541931152344, 203.6450653076172, 190.49179077148438, 182.256103515625, 142.29544067382812, 140.5815887451172, 121.62663269042969, 119.25199890136719, 101.2649154663086, 90.44601440429688, 79.06599426269531, 75.34971618652344, 70.55217742919922, 65.0914535522461, 63.561031341552734, 60.98103332519531, 60.16546630859375, 58.76370620727539, 52.026878356933594, 42.408973693847656, 32.846797943115234, 31.41853141784668, 30.556264877319336, 28.976947784423828, 27.23470687866211, 26.891225814819336, 26.560148239135742, 477.30059814453125, 324.24267578125, 240.3374786376953, 187.19171142578125, 167.0099334716797, 155.75106811523438, 144.13575744628906, 110.59829711914062, 109.66537475585938, 88.21723937988281, 80.05133819580078, 77.21142578125, 63.14716720581055, 55.898494720458984, 53.139366149902344, 50.794395446777344, 45.34825134277344, 45.28788757324219, 44.40645980834961, 40.21708679199219, 34.52361297607422, 32.52391052246094, 32.15407180786133, 30.215185165405273, 24.4185848236084, 22.840389251708984, 22.725448608398438, 20.189048767089844, 20.036039352416992, 19.001848220825195, 165.072509765625, 133.80638122558594, 99.5465316772461, 83.79234313964844, 81.39757537841797, 51.24223709106445, 36.02195739746094, 32.089195251464844, 29.15028190612793, 28.672685623168945, 25.15829086303711, 18.538646697998047, 15.041034698486328, 12.545464515686035, 12.189849853515625, 9.51136589050293, 8.212533950805664, 5.661314487457275, 0.3247597813606262, 0.07935673743486404, 0.07936149090528488, 0.07854633033275604, 0.07854636013507843, 0.07394217699766159, 0.07175222039222717, 0.07180115580558777, 0.07252902537584305, 0.07219167053699493, 0.0707487165927887, 0.06938102841377258, 0.07140322029590607, 0.07319816946983337, 0.07398301362991333, 0.07303326576948166, 0.07303326576948166, 0.07303326576948166, 0.07303326576948166, 0.0732397735118866], \"Total\": [3453.0, 3880.0, 2415.0, 1871.0, 1554.0, 1375.0, 952.0, 936.0, 1502.0, 1025.0, 1157.0, 979.0, 657.0, 898.0, 558.0, 590.0, 478.0, 625.0, 691.0, 489.0, 410.0, 504.0, 498.0, 579.0, 376.0, 391.0, 325.0, 361.0, 341.0, 331.0, 3880.059326171875, 1502.100341796875, 436.6874694824219, 425.0715026855469, 423.33148193359375, 375.5437316894531, 340.7105407714844, 308.5918884277344, 223.97752380371094, 222.16575622558594, 219.5937042236328, 214.0248565673828, 198.73789978027344, 183.24449157714844, 158.3640594482422, 156.12303161621094, 154.54635620117188, 142.99920654296875, 133.9084014892578, 130.6977081298828, 123.19258880615234, 115.66377258300781, 113.80545043945312, 98.77920532226562, 97.26323699951172, 96.25410461425781, 91.7384262084961, 87.42280578613281, 87.3425521850586, 86.16729736328125, 1871.238037109375, 1375.45947265625, 1157.134521484375, 898.086669921875, 324.6248779296875, 320.7004699707031, 237.71273803710938, 229.4724884033203, 216.1992950439453, 212.33981323242188, 181.25823974609375, 164.08348083496094, 158.71270751953125, 148.6595458984375, 107.79457092285156, 101.95101928710938, 89.30994415283203, 87.27986907958984, 84.67542266845703, 70.15904235839844, 62.30582046508789, 57.254329681396484, 56.17811584472656, 54.944881439208984, 54.748321533203125, 53.660037994384766, 53.23792266845703, 49.943058013916016, 49.48326873779297, 48.74992752075195, 3453.21240234375, 979.1591186523438, 691.2306518554688, 579.0228881835938, 455.21575927734375, 437.6240234375, 409.8454895019531, 304.8827819824219, 225.55453491210938, 199.3552703857422, 141.93008422851562, 116.79057312011719, 110.33008575439453, 102.52310180664062, 96.01038360595703, 87.57435607910156, 73.20822143554688, 68.44436645507812, 66.69026947021484, 63.713191986083984, 60.59724807739258, 50.266685485839844, 49.985252380371094, 43.821983337402344, 40.4704475402832, 40.277896881103516, 39.87433624267578, 38.587284088134766, 37.468040466308594, 37.19737243652344, 2415.275146484375, 1554.207763671875, 504.8070068359375, 253.51211547851562, 163.8829803466797, 144.29037475585938, 129.34837341308594, 119.8551025390625, 118.66470336914062, 104.4134521484375, 99.52407836914062, 90.16219329833984, 74.59894561767578, 73.13765716552734, 69.19867706298828, 54.953128814697266, 48.70686340332031, 45.00591278076172, 44.681541442871094, 41.56560516357422, 30.851932525634766, 30.369979858398438, 29.8062686920166, 29.79012680053711, 27.789522171020508, 25.43939971923828, 25.197998046875, 24.48857307434082, 24.126502990722656, 24.090068817138672, 1025.56982421875, 625.9652709960938, 498.9354553222656, 313.12713623046875, 244.22976684570312, 233.9185333251953, 229.75784301757812, 202.90835571289062, 199.8538818359375, 176.26492309570312, 165.5500030517578, 158.13294982910156, 157.86671447753906, 149.80503845214844, 129.2473907470703, 98.28518676757812, 95.72793579101562, 86.36421203613281, 74.45745086669922, 73.13385009765625, 68.9388656616211, 55.982666015625, 55.17045593261719, 54.204280853271484, 48.3686637878418, 45.85564422607422, 44.33740234375, 44.29486083984375, 42.75504684448242, 41.98065185546875, 590.4185180664062, 339.60064697265625, 307.7373046875, 296.9998779296875, 265.73077392578125, 204.060546875, 179.31626892089844, 172.42369079589844, 170.18980407714844, 141.4486541748047, 134.35769653320312, 130.87847900390625, 129.36709594726562, 127.72513580322266, 119.59404754638672, 107.78839111328125, 107.64555358886719, 100.6952133178711, 98.96295166015625, 86.50568389892578, 84.37060546875, 75.66362762451172, 72.7165756225586, 62.97151184082031, 61.28435516357422, 55.371490478515625, 55.091800689697266, 51.44979476928711, 50.290828704833984, 50.14750289916992, 952.2349243164062, 936.592529296875, 657.2516479492188, 391.8141174316406, 176.37254333496094, 140.76068115234375, 132.82949829101562, 126.78385925292969, 122.51538848876953, 96.71733856201172, 77.1014175415039, 70.72819519042969, 65.47074890136719, 62.67415237426758, 49.43080139160156, 37.73622131347656, 37.278968811035156, 36.405086517333984, 35.0810661315918, 31.378463745117188, 30.151683807373047, 23.738676071166992, 23.670873641967773, 21.901756286621094, 21.385448455810547, 15.624937057495117, 14.838491439819336, 13.859872817993164, 11.59494400024414, 11.325133323669434, 489.8885192871094, 361.7332763671875, 294.1106262207031, 219.62652587890625, 217.3516387939453, 210.74188232421875, 185.1961669921875, 161.1471710205078, 134.1593475341797, 121.84559631347656, 107.51393127441406, 107.021728515625, 77.17674255371094, 72.92617797851562, 65.53063201904297, 62.70173645019531, 60.9339714050293, 59.176265716552734, 58.706329345703125, 58.616729736328125, 57.55134582519531, 54.41905975341797, 53.06320571899414, 49.953086853027344, 46.607662200927734, 46.39455795288086, 43.88091278076172, 42.17414474487305, 39.124088287353516, 37.98676681518555, 558.876953125, 376.08477783203125, 341.9651794433594, 265.73345947265625, 154.31309509277344, 136.92185974121094, 112.17593383789062, 105.0751724243164, 102.65196228027344, 101.37398529052734, 76.49085998535156, 66.92964172363281, 65.30315399169922, 62.676780700683594, 59.51599884033203, 57.688438415527344, 56.44734191894531, 53.03801345825195, 48.60429763793945, 47.064090728759766, 44.253482818603516, 42.825069427490234, 35.017669677734375, 33.556766510009766, 31.242074966430664, 30.288766860961914, 29.523096084594727, 29.442407608032227, 29.002744674682617, 25.853824615478516, 410.19317626953125, 331.81005859375, 217.0742645263672, 215.92178344726562, 204.62144470214844, 191.46815490722656, 183.2324676513672, 143.27182006835938, 141.55796813964844, 122.6030044555664, 120.22836303710938, 102.24129486083984, 91.4223861694336, 80.0423583984375, 76.32611083984375, 71.5285415649414, 66.06783294677734, 64.53740692138672, 61.95741653442383, 61.14182662963867, 59.74007034301758, 53.003257751464844, 43.3853759765625, 33.82317352294922, 32.394962310791016, 31.53264617919922, 29.953325271606445, 28.21112823486328, 27.867605209350586, 27.53653907775879, 478.27789306640625, 325.219970703125, 241.31478881835938, 188.1690216064453, 167.98724365234375, 156.72837829589844, 145.11306762695312, 111.57560729980469, 110.64268493652344, 89.19454193115234, 81.02864074707031, 78.18879699707031, 64.12451171875, 56.87580490112305, 54.11666488647461, 51.771759033203125, 46.32559585571289, 46.26521301269531, 45.38377380371094, 41.19448471069336, 35.50093460083008, 33.50127029418945, 33.131507873535156, 31.1925106048584, 25.395883560180664, 23.81772804260254, 23.7027587890625, 21.166410446166992, 21.013336181640625, 19.979358673095703, 166.06761169433594, 134.80149841308594, 100.54164123535156, 84.78746032714844, 82.39270782470703, 52.237361907958984, 37.0170783996582, 33.08432388305664, 30.145389556884766, 29.667818069458008, 26.153446197509766, 19.53375816345215, 16.03618621826172, 13.540602684020996, 13.184965133666992, 10.506583213806152, 9.207745552062988, 6.6564249992370605, 1.3198564052581787, 1.1105427742004395, 1.1106663942337036, 1.1443250179290771, 1.1443637609481812, 1.088021993637085, 1.091604471206665, 1.0969648361206055, 1.1094352006912231, 1.1068463325500488, 1.0909008979797363, 1.0699331760406494, 1.1044411659240723, 1.1363141536712646, 1.1633856296539307, 1.1563422679901123, 1.1563422679901123, 1.1563422679901123, 1.1563422679901123, 1.2988795042037964], \"Category\": [\"Default\", \"Default\", \"Default\", \"Default\", \"Default\", \"Default\", \"Default\", \"Default\", \"Default\", \"Default\", \"Default\", \"Default\", \"Default\", \"Default\", \"Default\", \"Default\", \"Default\", \"Default\", \"Default\", \"Default\", \"Default\", \"Default\", \"Default\", \"Default\", \"Default\", \"Default\", \"Default\", \"Default\", \"Default\", \"Default\", \"Topic1\", \"Topic1\", \"Topic1\", \"Topic1\", \"Topic1\", \"Topic1\", \"Topic1\", \"Topic1\", \"Topic1\", \"Topic1\", \"Topic1\", \"Topic1\", \"Topic1\", \"Topic1\", \"Topic1\", \"Topic1\", \"Topic1\", \"Topic1\", \"Topic1\", \"Topic1\", \"Topic1\", \"Topic1\", \"Topic1\", \"Topic1\", \"Topic1\", \"Topic1\", \"Topic1\", \"Topic1\", \"Topic1\", \"Topic1\", \"Topic2\", \"Topic2\", \"Topic2\", \"Topic2\", \"Topic2\", \"Topic2\", \"Topic2\", \"Topic2\", \"Topic2\", \"Topic2\", \"Topic2\", \"Topic2\", \"Topic2\", \"Topic2\", \"Topic2\", \"Topic2\", \"Topic2\", \"Topic2\", \"Topic2\", \"Topic2\", \"Topic2\", \"Topic2\", \"Topic2\", \"Topic2\", \"Topic2\", \"Topic2\", \"Topic2\", \"Topic2\", \"Topic2\", \"Topic2\", \"Topic3\", \"Topic3\", \"Topic3\", \"Topic3\", \"Topic3\", \"Topic3\", \"Topic3\", \"Topic3\", \"Topic3\", \"Topic3\", \"Topic3\", \"Topic3\", \"Topic3\", \"Topic3\", \"Topic3\", \"Topic3\", \"Topic3\", \"Topic3\", \"Topic3\", \"Topic3\", \"Topic3\", \"Topic3\", \"Topic3\", \"Topic3\", \"Topic3\", \"Topic3\", \"Topic3\", \"Topic3\", \"Topic3\", \"Topic3\", \"Topic4\", \"Topic4\", \"Topic4\", \"Topic4\", \"Topic4\", \"Topic4\", \"Topic4\", \"Topic4\", \"Topic4\", \"Topic4\", \"Topic4\", \"Topic4\", \"Topic4\", \"Topic4\", \"Topic4\", \"Topic4\", \"Topic4\", \"Topic4\", \"Topic4\", \"Topic4\", \"Topic4\", \"Topic4\", \"Topic4\", \"Topic4\", \"Topic4\", \"Topic4\", \"Topic4\", \"Topic4\", \"Topic4\", \"Topic4\", \"Topic5\", \"Topic5\", \"Topic5\", \"Topic5\", \"Topic5\", \"Topic5\", \"Topic5\", \"Topic5\", \"Topic5\", \"Topic5\", \"Topic5\", \"Topic5\", \"Topic5\", \"Topic5\", \"Topic5\", \"Topic5\", \"Topic5\", \"Topic5\", \"Topic5\", \"Topic5\", \"Topic5\", \"Topic5\", \"Topic5\", \"Topic5\", \"Topic5\", \"Topic5\", \"Topic5\", \"Topic5\", \"Topic5\", \"Topic5\", \"Topic6\", \"Topic6\", \"Topic6\", \"Topic6\", \"Topic6\", \"Topic6\", \"Topic6\", \"Topic6\", \"Topic6\", \"Topic6\", \"Topic6\", \"Topic6\", \"Topic6\", \"Topic6\", \"Topic6\", \"Topic6\", \"Topic6\", \"Topic6\", \"Topic6\", \"Topic6\", \"Topic6\", \"Topic6\", \"Topic6\", \"Topic6\", \"Topic6\", \"Topic6\", \"Topic6\", \"Topic6\", \"Topic6\", \"Topic6\", \"Topic7\", \"Topic7\", \"Topic7\", \"Topic7\", \"Topic7\", \"Topic7\", \"Topic7\", \"Topic7\", \"Topic7\", \"Topic7\", \"Topic7\", \"Topic7\", \"Topic7\", \"Topic7\", \"Topic7\", \"Topic7\", \"Topic7\", \"Topic7\", \"Topic7\", \"Topic7\", \"Topic7\", \"Topic7\", \"Topic7\", \"Topic7\", \"Topic7\", \"Topic7\", \"Topic7\", \"Topic7\", \"Topic7\", \"Topic7\", \"Topic8\", \"Topic8\", \"Topic8\", \"Topic8\", \"Topic8\", \"Topic8\", \"Topic8\", \"Topic8\", \"Topic8\", \"Topic8\", \"Topic8\", \"Topic8\", \"Topic8\", \"Topic8\", \"Topic8\", \"Topic8\", \"Topic8\", \"Topic8\", \"Topic8\", \"Topic8\", \"Topic8\", \"Topic8\", \"Topic8\", \"Topic8\", \"Topic8\", \"Topic8\", \"Topic8\", \"Topic8\", \"Topic8\", \"Topic8\", \"Topic9\", \"Topic9\", \"Topic9\", \"Topic9\", \"Topic9\", \"Topic9\", \"Topic9\", \"Topic9\", \"Topic9\", \"Topic9\", \"Topic9\", \"Topic9\", \"Topic9\", \"Topic9\", \"Topic9\", \"Topic9\", \"Topic9\", \"Topic9\", \"Topic9\", \"Topic9\", \"Topic9\", \"Topic9\", \"Topic9\", \"Topic9\", \"Topic9\", \"Topic9\", \"Topic9\", \"Topic9\", \"Topic9\", \"Topic9\", \"Topic10\", \"Topic10\", \"Topic10\", \"Topic10\", \"Topic10\", \"Topic10\", \"Topic10\", \"Topic10\", \"Topic10\", \"Topic10\", \"Topic10\", \"Topic10\", \"Topic10\", \"Topic10\", \"Topic10\", \"Topic10\", \"Topic10\", \"Topic10\", \"Topic10\", \"Topic10\", \"Topic10\", \"Topic10\", \"Topic10\", \"Topic10\", \"Topic10\", \"Topic10\", \"Topic10\", \"Topic10\", \"Topic10\", \"Topic10\", \"Topic11\", \"Topic11\", \"Topic11\", \"Topic11\", \"Topic11\", \"Topic11\", \"Topic11\", \"Topic11\", \"Topic11\", \"Topic11\", \"Topic11\", \"Topic11\", \"Topic11\", \"Topic11\", \"Topic11\", \"Topic11\", \"Topic11\", \"Topic11\", \"Topic11\", \"Topic11\", \"Topic11\", \"Topic11\", \"Topic11\", \"Topic11\", \"Topic11\", \"Topic11\", \"Topic11\", \"Topic11\", \"Topic11\", \"Topic11\", \"Topic12\", \"Topic12\", \"Topic12\", \"Topic12\", \"Topic12\", \"Topic12\", \"Topic12\", \"Topic12\", \"Topic12\", \"Topic12\", \"Topic12\", \"Topic12\", \"Topic12\", \"Topic12\", \"Topic12\", \"Topic12\", \"Topic12\", \"Topic12\", \"Topic12\", \"Topic12\", \"Topic12\", \"Topic12\", \"Topic12\", \"Topic12\", \"Topic12\", \"Topic12\", \"Topic12\", \"Topic12\", \"Topic12\", \"Topic12\", \"Topic12\", \"Topic12\", \"Topic12\", \"Topic12\", \"Topic12\", \"Topic12\", \"Topic12\", \"Topic12\"], \"logprob\": [30.0, 29.0, 28.0, 27.0, 26.0, 25.0, 24.0, 23.0, 22.0, 21.0, 20.0, 19.0, 18.0, 17.0, 16.0, 15.0, 14.0, 13.0, 12.0, 11.0, 10.0, 9.0, 8.0, 7.0, 6.0, 5.0, 4.0, 3.0, 2.0, 1.0, -1.2761000394821167, -2.2255001068115234, -3.4625000953674316, -3.489500045776367, -3.4935998916625977, -3.6136999130249023, -3.7112998962402344, -3.8106000423431396, -4.132299900054932, -4.140399932861328, -4.152100086212158, -4.1778998374938965, -4.252399921417236, -4.333899974822998, -4.4807000160217285, -4.494999885559082, -4.505300045013428, -4.583399772644043, -4.649600028991699, -4.673999786376953, -4.73360013961792, -4.7972002029418945, -4.813499927520752, -4.956399917602539, -4.9720001220703125, -4.982600212097168, -5.031099796295166, -5.079800128936768, -5.0808000564575195, -5.0945000648498535, -1.7415000200271606, -2.049499988555908, -2.2225000858306885, -2.4762001037597656, -3.4955999851226807, -3.5078001022338867, -3.808300018310547, -3.8438000679016113, -3.903599977493286, -3.9217000007629395, -4.0808000564575195, -4.1809000968933105, -4.214300155639648, -4.280200004577637, -4.604100227355957, -4.660299777984619, -4.794099807739258, -4.817299842834473, -4.8480000495910645, -5.038400173187256, -5.158899784088135, -5.244800090789795, -5.264100074768066, -5.2866997718811035, -5.290299892425537, -5.310800075531006, -5.31879997253418, -5.383900165557861, -5.393400192260742, -5.408599853515625, -1.0976999998092651, -2.358799934387207, -2.70740008354187, -2.8847999572753906, -3.1259000301361084, -3.1654000282287598, -3.231100082397461, -3.5278000831604004, -3.8303000926971436, -3.9542999267578125, -4.296000003814697, -4.492400169372559, -4.549799919128418, -4.623899936676025, -4.690199851989746, -4.783100128173828, -4.9644999504089355, -5.032700061798096, -5.059000015258789, -5.105400085449219, -5.156300067901611, -5.34660005569458, -5.35230016708374, -5.486700057983398, -5.5680999755859375, -5.572999954223633, -5.5833001136779785, -5.6168999671936035, -5.64709997177124, -5.654600143432617, -1.0959999561309814, -1.5370999574661255, -2.662899971008301, -3.353600025177002, -3.7918999195098877, -3.920099973678589, -4.030200004577637, -4.10699987411499, -4.117000102996826, -4.246099948883057, -4.29449987411499, -4.3942999839782715, -4.586100101470947, -4.606100082397461, -4.662300109863281, -4.896500110626221, -5.019400119781494, -5.100100040435791, -5.107500076293945, -5.18149995803833, -5.4878997802734375, -5.5040998458862305, -5.523499965667725, -5.524099826812744, -5.5960001945495605, -5.687699794769287, -5.6975998878479, -5.72730016708374, -5.742800235748291, -5.7444000244140625, -1.9399000406265259, -2.434299945831299, -2.6614999771118164, -3.128499984741211, -3.3778998851776123, -3.4212000370025635, -3.439199924468994, -3.563999891281128, -3.5792999267578125, -3.7054998874664307, -3.7685999870300293, -3.81469988822937, -3.8164000511169434, -3.8691999912261963, -4.0177998542785645, -4.294099807739258, -4.320700168609619, -4.424699783325195, -4.574900150299072, -4.593100070953369, -4.6529998779296875, -4.864500045776367, -4.879300117492676, -4.897299766540527, -5.013400077819824, -5.06790018081665, -5.10230016708374, -5.103300094604492, -5.139500141143799, -5.158199787139893, -2.2997000217437744, -2.8540000915527344, -2.9528000354766846, -2.9883999824523926, -3.0999999046325684, -3.3652000427246094, -3.4951000213623047, -3.534600019454956, -3.5476999282836914, -3.733799934387207, -3.785599946975708, -3.812000036239624, -3.823699951171875, -3.8366000652313232, -3.902899980545044, -4.007699966430664, -4.009099960327148, -4.076499938964844, -4.093999862670898, -4.229899883270264, -4.255199909210205, -4.365499973297119, -4.405700206756592, -4.551700115203857, -4.5792999267578125, -4.682499885559082, -4.687600135803223, -4.757299900054932, -4.7804999351501465, -4.783400058746338, -1.6576999425888062, -1.674299955368042, -2.028899908065796, -2.5471999645233154, -3.348400115966797, -3.5754001140594482, -3.6338000297546387, -3.6807000637054443, -3.7151999473571777, -3.9537999629974365, -4.18310022354126, -4.270500183105469, -4.348899841308594, -4.393199920654297, -4.634799957275391, -4.910999774932861, -4.923500061035156, -4.94789981842041, -4.986000061035156, -5.100900173187256, -5.142099857330322, -5.3902997970581055, -5.393199920654297, -5.474400043487549, -5.4994001388549805, -5.830999851226807, -5.886099815368652, -5.9593000411987305, -6.152599811553955, -6.178400039672852, -2.269700050354004, -2.573699951171875, -2.7813000679016113, -3.074399948120117, -3.08489990234375, -3.1159000396728516, -3.245800018310547, -3.385699987411499, -3.570199966430664, -3.6672000885009766, -3.7934000492095947, -3.7980000972747803, -4.128499984741211, -4.1859002113342285, -4.294300079345703, -4.339099884033203, -4.368199825286865, -4.397900104522705, -4.406000137329102, -4.407599925994873, -4.426300048828125, -4.4832000732421875, -4.508900165557861, -4.570499897003174, -4.641200065612793, -4.645899772644043, -4.7027997970581055, -4.7434000968933105, -4.820300102233887, -4.850599765777588, -1.9804999828338623, -2.3773999214172363, -2.4728000164031982, -2.725800037384033, -3.2720000743865967, -3.392400026321411, -3.5933001041412354, -3.6593000888824463, -3.682800054550171, -3.695499897003174, -3.980299949645996, -4.115699768066406, -4.140600204467773, -4.182300090789795, -4.234899997711182, -4.266600131988525, -4.28879976272583, -4.352200031280518, -4.441199779510498, -4.474100112915039, -4.5370001792907715, -4.5706000328063965, -4.7769999504089355, -4.820899963378906, -4.894599914550781, -4.926599979400635, -4.953100204467773, -4.955900192260742, -4.971499919891357, -5.09060001373291, -2.28629994392395, -2.4988999366760254, -2.924799919128418, -2.9300999641418457, -2.984100103378296, -3.0508999824523926, -3.095099925994873, -3.342600107192993, -3.3547000885009766, -3.499500036239624, -3.5192999839782715, -3.682800054550171, -3.7957000732421875, -3.9302000999450684, -3.9783999919891357, -4.044099807739258, -4.12470006942749, -4.148499965667725, -4.189899921417236, -4.203400135040283, -4.2270002365112305, -4.348700046539307, -4.553100109100342, -4.808599948883057, -4.853099822998047, -4.880899906158447, -4.934000015258789, -4.995999813079834, -5.008699893951416, -5.021100044250488, -1.9759999513626099, -2.3626999855041504, -2.662100076675415, -2.9119999408721924, -3.026099920272827, -3.095900058746338, -3.1733999252319336, -3.4382998943328857, -3.446700096130371, -3.664400100708008, -3.7614998817443848, -3.797600030899048, -3.998699903488159, -4.12060022354126, -4.171199798583984, -4.216400146484375, -4.329800128936768, -4.331099987030029, -4.350800037384033, -4.449900150299072, -4.602499961853027, -4.662199974060059, -4.673600196838379, -4.735799789428711, -4.948800086975098, -5.015600204467773, -5.020699977874756, -5.138999938964844, -5.146599769592285, -5.1996002197265625, -2.047100067138672, -2.2571001052856445, -2.552799940109253, -2.725100040435791, -2.7541000843048096, -3.216900110244751, -3.5692999362945557, -3.684999942779541, -3.7809998989105225, -3.797499895095825, -3.928299903869629, -4.23360013961792, -4.442699909210205, -4.624100208282471, -4.652900218963623, -4.901000022888184, -5.047800064086914, -5.4197998046875, -8.27810001373291, -9.687299728393555, -9.687199592590332, -9.697500228881836, -9.697500228881836, -9.75790023803711, -9.788000106811523, -9.787300109863281, -9.777199745178223, -9.781900405883789, -9.80210018157959, -9.821599960327148, -9.792900085449219, -9.768099784851074, -9.757399559020996, -9.770299911499023, -9.770299911499023, -9.770299911499023, -9.770299911499023, -9.767499923706055], \"loglift\": [30.0, 29.0, 28.0, 27.0, 26.0, 25.0, 24.0, 23.0, 22.0, 21.0, 20.0, 19.0, 18.0, 17.0, 16.0, 15.0, 14.0, 13.0, 12.0, 11.0, 10.0, 9.0, 8.0, 7.0, 6.0, 5.0, 4.0, 3.0, 2.0, 1.0, 1.7203999757766724, 1.7200000286102295, 1.718400001525879, 1.718400001525879, 1.7182999849319458, 1.7180999517440796, 1.7178000211715698, 1.7174999713897705, 1.7163000106811523, 1.7163000106811523, 1.7161999940872192, 1.7160999774932861, 1.7158000469207764, 1.7152999639511108, 1.7144999504089355, 1.714400053024292, 1.714400053024292, 1.7138999700546265, 1.7134000062942505, 1.7131999731063843, 1.7128000259399414, 1.7122000455856323, 1.7121000289916992, 1.710800051689148, 1.7106000185012817, 1.7105000019073486, 1.7100000381469727, 1.7094999551773071, 1.7094999551773071, 1.7094000577926636, 1.9842000007629395, 1.9840999841690063, 1.9838999509811401, 1.9837000370025635, 1.9817999601364136, 1.9817999601364136, 1.9807000160217285, 1.9805999994277954, 1.980299949645996, 1.9802000522613525, 1.9794000387191772, 1.9788999557495117, 1.978700041770935, 1.9782999753952026, 1.9758000373840332, 1.9752999544143677, 1.9738999605178833, 1.9737000465393066, 1.9732999801635742, 1.970900058746338, 1.9692000150680542, 1.9678000211715698, 1.9674999713897705, 1.9671000242233276, 1.9670000076293945, 1.9666999578475952, 1.9665000438690186, 1.9652999639511108, 1.9651000499725342, 1.9648000001907349, 2.0153000354766846, 2.0146000385284424, 2.01419997215271, 2.0139000415802, 2.0134999752044678, 2.013400077819824, 2.013200044631958, 2.012399911880493, 2.0113000869750977, 2.010699987411499, 2.0088000297546387, 2.0072999000549316, 2.0067999362945557, 2.0060999393463135, 2.005500078201294, 2.004499912261963, 2.0023000240325928, 2.0013999938964844, 2.000999927520752, 2.0002999305725098, 1.999500036239624, 1.9961999654769897, 1.9960999488830566, 1.993299961090088, 1.9914000034332275, 1.9912999868392944, 1.9910999536514282, 1.9903000593185425, 1.9895000457763672, 1.989300012588501, 2.3745999336242676, 2.374300003051758, 2.372999906539917, 2.3710999488830566, 2.36899995803833, 2.3682000637054443, 2.3673999309539795, 2.36680006980896, 2.36680006980896, 2.365600109100342, 2.3652000427246094, 2.3640999794006348, 2.3619000911712646, 2.361599922180176, 2.36080002784729, 2.3571999073028564, 2.3548998832702637, 2.3531999588012695, 2.3529999256134033, 2.3513998985290527, 2.3429999351501465, 2.3424999713897705, 2.341900110244751, 2.341900110244751, 2.339400053024292, 2.3361001014709473, 2.335700035095215, 2.3345999717712402, 2.3340001106262207, 2.333899974822998, 2.387200117111206, 2.3866000175476074, 2.386199951171875, 2.384999990463257, 2.3840999603271484, 2.3838999271392822, 2.3838999271392822, 2.3833000659942627, 2.38319993019104, 2.3826000690460205, 2.382200002670288, 2.3819000720977783, 2.3819000720977783, 2.3815999031066895, 2.3805999755859375, 2.378200054168701, 2.3778998851776123, 2.376800060272217, 2.375, 2.3747000694274902, 2.3738999366760254, 2.3705999851226807, 2.370300054550171, 2.369999885559082, 2.367799997329712, 2.3666999340057373, 2.3659000396728516, 2.3659000396728516, 2.3650999069213867, 2.3647000789642334, 2.5796000957489014, 2.578399896621704, 2.5780999660491943, 2.578000068664551, 2.5776000022888184, 2.5764999389648438, 2.5757999420166016, 2.5755999088287354, 2.575500011444092, 2.574399948120117, 2.5739998817443848, 2.5738000869750977, 2.573699951171875, 2.5736000537872314, 2.5731000900268555, 2.572200059890747, 2.572200059890747, 2.5715999603271484, 2.5713999271392822, 2.569999933242798, 2.569700002670288, 2.5683000087738037, 2.5678000450134277, 2.565700054168701, 2.5652999877929688, 2.5636000633239746, 2.563499927520752, 2.5622000694274902, 2.561800003051758, 2.5617001056671143, 2.7435998916625977, 2.7435998916625977, 2.7430999279022217, 2.7421000003814697, 2.7390999794006348, 2.7376999855041504, 2.737299919128418, 2.7369000911712646, 2.736599922180176, 2.734499931335449, 2.7318999767303467, 2.730799913406372, 2.729599952697754, 2.7290000915527344, 2.7246999740600586, 2.7184998989105225, 2.7181999683380127, 2.7174999713897705, 2.7165000438690186, 2.713099956512451, 2.7118000984191895, 2.702699899673462, 2.7026000022888184, 2.6991000175476074, 2.697999954223633, 2.680299997329712, 2.6767001152038574, 2.671799898147583, 2.656899929046631, 2.6547000408172607, 2.7962000370025635, 2.7955000400543213, 2.7948999404907227, 2.7936999797821045, 2.7936999797821045, 2.793600082397461, 2.7929000854492188, 2.792099952697754, 2.7908999919891357, 2.7901999950408936, 2.789099931716919, 2.789099931716919, 2.7855000495910645, 2.7848000526428223, 2.7832999229431152, 2.782599925994873, 2.782099962234497, 2.781599998474121, 2.7815001010894775, 2.7815001010894775, 2.7811999320983887, 2.7802000045776367, 2.7797000408172607, 2.778599977493286, 2.777100086212158, 2.7769999504089355, 2.7757999897003174, 2.774899959564209, 2.773099899291992, 2.7723000049591064, 2.953700065612793, 2.952899932861328, 2.9526000022888184, 2.9518001079559326, 2.9491000175476074, 2.9482998847961426, 2.946700096130371, 2.9460999965667725, 2.9458999633789062, 2.9458000659942627, 2.9426000118255615, 2.9407999515533447, 2.9403998851776123, 2.9398000240325928, 2.9388999938964844, 2.9384000301361084, 2.937999963760376, 2.9368999004364014, 2.9351999759674072, 2.934499979019165, 2.933199882507324, 2.9323999881744385, 2.9272000789642334, 2.9260001182556152, 2.9237000942230225, 2.9226999282836914, 2.9219000339508057, 2.921799898147583, 2.921299934387207, 2.9170000553131104, 2.957200050354004, 2.956700086593628, 2.9551000595092773, 2.9551000595092773, 2.9547998905181885, 2.9544999599456787, 2.9542999267578125, 2.9528000354766846, 2.952699899673462, 2.9516000747680664, 2.9514999389648438, 2.950000047683716, 2.948899984359741, 2.9472999572753906, 2.946700096130371, 2.9458999633789062, 2.944700002670288, 2.9444000720977783, 2.943700075149536, 2.94350004196167, 2.9430999755859375, 2.940999984741211, 2.936800003051758, 2.930299997329712, 2.928999900817871, 2.9282000064849854, 2.926500082015991, 2.9244000911712646, 2.9238998889923096, 2.9235000610351562, 3.1138999462127686, 3.1129000186920166, 3.1119000911712646, 3.1106998920440674, 3.110100030899048, 3.1096999645233154, 3.1092000007629395, 3.107100009918213, 3.107100009918213, 3.1048998832702637, 3.103800058364868, 3.1033999919891357, 3.100600004196167, 3.098599910736084, 3.0977001190185547, 3.09689998626709, 3.094599962234497, 3.094599962234497, 3.0941998958587646, 3.091900110244751, 3.0880000591278076, 3.0862998962402344, 3.0859999656677246, 3.0841000080108643, 3.07669997215271, 3.0739998817443848, 3.0738000869750977, 3.068700075149536, 3.0683000087738037, 3.0657999515533447, 4.100599765777588, 4.0991997718811035, 4.096700191497803, 4.094799995422363, 4.0945000648498535, 4.087399959564209, 4.079400062561035, 4.076099872589111, 4.0731000900268555, 4.072500228881836, 4.067800045013428, 4.054299831390381, 4.042600154876709, 4.030300140380859, 4.028200149536133, 4.0071001052856445, 3.9921998977661133, 3.944700002670288, 2.704400062561035, 1.468000054359436, 1.467900037765503, 1.4278000593185425, 1.4277000427246094, 1.417799949645996, 1.3844000101089478, 1.3802000284194946, 1.378999948501587, 1.3767000436782837, 1.371000051498413, 1.37090003490448, 1.367900013923645, 1.364300012588501, 1.3514000177383423, 1.344499945640564, 1.344499945640564, 1.344499945640564, 1.344499945640564, 1.2310999631881714]}, \"token.table\": {\"Topic\": [9, 6, 4, 6, 5, 9, 3, 9, 3, 9, 7, 2, 8, 3, 5, 3, 3, 2, 10, 6, 4, 8, 8, 6, 6, 6, 8, 10, 3, 2, 2, 8, 4, 11, 10, 1, 11, 4, 7, 6, 7, 4, 10, 8, 10, 1, 12, 4, 3, 11, 1, 5, 4, 9, 8, 4, 3, 1, 3, 1, 10, 5, 1, 1, 4, 12, 4, 10, 9, 2, 7, 11, 1, 11, 6, 1, 10, 10, 9, 5, 9, 7, 1, 4, 11, 2, 3, 5, 8, 6, 6, 8, 10, 7, 3, 2, 12, 2, 7, 11, 6, 4, 7, 4, 7, 3, 2, 2, 4, 10, 9, 6, 5, 11, 1, 10, 5, 2, 1, 9, 6, 9, 6, 11, 6, 1, 1, 10, 4, 12, 6, 7, 9, 3, 12, 7, 2, 3, 10, 8, 8, 12, 8, 8, 1, 10, 8, 12, 4, 9, 2, 5, 6, 7, 11, 12, 5, 2, 5, 9, 11, 11, 6, 5, 3, 9, 1, 8, 7, 4, 1, 6, 7, 11, 8, 8, 2, 1, 5, 7, 9, 9, 8, 5, 11, 1, 4, 10, 4, 3, 5, 11, 9, 9, 2, 6, 2, 12, 7, 4, 4, 7, 11, 3, 6, 3, 3, 11, 11, 11, 11, 9, 5, 10, 5, 4, 3, 6, 2, 7, 10, 10, 6, 4, 9, 2, 6, 3, 1, 9, 7, 7, 10, 2, 3, 8, 1, 4, 9, 1, 2, 9, 1, 7, 3, 10, 5, 11, 11, 12, 7, 6, 10, 12, 11, 7, 2, 6, 10, 8, 9, 7, 2, 3, 6, 7, 2, 8, 7, 4, 2, 4, 4, 8, 5, 10, 5, 5, 9, 5, 6, 3, 8, 12, 11, 1, 2, 11, 8, 7, 8, 5, 10, 5, 8, 5, 10, 4, 3, 2, 5, 12, 12, 5, 12, 4, 11, 3, 1, 8, 1, 9, 5, 6, 2, 11, 10, 5, 10, 3, 8, 1, 1, 9, 12, 12, 1, 11, 9, 11, 10, 6, 11, 2, 7, 10, 3, 4, 8, 7, 8, 3, 9, 5, 12, 7, 1, 2], \"Freq\": [0.9669749140739441, 0.9801821708679199, 0.9434185028076172, 0.9771174192428589, 0.996073305606842, 0.9880662560462952, 0.9975414872169495, 0.9895170331001282, 0.993201732635498, 0.9510091543197632, 0.9775357842445374, 0.992628812789917, 0.9847526550292969, 0.998233437538147, 0.9717035293579102, 0.999648928642273, 0.9812426567077637, 0.9790417551994324, 0.9813249707221985, 0.997249960899353, 0.9826555848121643, 0.9879684448242188, 0.9699413180351257, 0.9917430877685547, 0.9902696013450623, 0.9901456236839294, 0.9721596240997314, 0.9923321008682251, 0.987944483757019, 0.9955094456672668, 0.9978157877922058, 0.9740234017372131, 0.9919711351394653, 0.9973281621932983, 0.9869773983955383, 0.9997270107269287, 0.993787407875061, 0.9943984746932983, 0.9352153539657593, 0.9932878017425537, 0.9716582894325256, 0.9910570979118347, 0.9876118302345276, 0.9979729056358337, 0.9970911741256714, 0.9962870478630066, 0.9558969736099243, 0.9548903107643127, 0.9802891612052917, 0.9850372672080994, 0.9932085871696472, 0.9842039942741394, 0.9871099591255188, 0.9914907217025757, 0.9919025301933289, 0.9863924980163574, 0.9934415221214294, 0.9903193116188049, 0.9896495938301086, 0.9942612051963806, 0.9844415783882141, 0.9863811731338501, 0.9928067326545715, 0.9946616888046265, 0.9864629507064819, 0.9763126969337463, 0.9979799389839172, 0.9932737350463867, 0.9935827851295471, 0.9990195631980896, 0.9600038528442383, 0.9658479690551758, 0.986453115940094, 0.9858895540237427, 0.9976041316986084, 0.9952114820480347, 0.9805153608322144, 0.99261075258255, 0.9834082126617432, 0.9981250762939453, 0.9875670075416565, 0.9691837430000305, 0.997479259967804, 0.9734768867492676, 0.9945515394210815, 0.9936902523040771, 0.9985740780830383, 0.9957274794578552, 0.9799634218215942, 0.9926857352256775, 0.984572172164917, 0.9913583993911743, 0.9826257228851318, 0.9379595518112183, 0.9971045255661011, 0.9920234084129333, 0.9946127533912659, 0.9979409575462341, 0.9614041447639465, 0.9846014380455017, 0.9743327498435974, 0.9800489544868469, 0.999367356300354, 0.9776493310928345, 0.9434921145439148, 0.974800705909729, 0.986331582069397, 0.9853326082229614, 0.9547502994537354, 0.9570691585540771, 0.9897676110267639, 0.9752311110496521, 0.9787847399711609, 0.994123101234436, 0.9870122075080872, 0.9680681228637695, 0.9923957586288452, 0.9970017075538635, 0.9956356287002563, 0.9804288744926453, 0.9948027729988098, 0.971674919128418, 0.9940029978752136, 0.9703511595726013, 0.991229236125946, 0.9837250113487244, 0.9921116232872009, 0.9957309365272522, 0.9946121573448181, 0.972524106502533, 0.9898949265480042, 0.9710544347763062, 0.9971156120300293, 0.9982196092605591, 0.972675085067749, 0.961803674697876, 0.981117308139801, 0.9934468865394592, 0.9569389224052429, 0.9981862902641296, 0.9964796900749207, 0.9672254323959351, 0.9712686538696289, 0.9930601119995117, 0.9930124878883362, 0.9810717701911926, 0.9888083338737488, 0.983096718788147, 0.9992229342460632, 0.991330087184906, 0.9846168756484985, 0.9946261048316956, 0.9930089712142944, 0.9937551617622375, 0.9847958087921143, 0.9353845119476318, 0.9903488159179688, 0.9987900257110596, 0.9698358178138733, 0.9971775412559509, 0.9953526258468628, 0.9923296570777893, 0.9966334104537964, 0.9824469685554504, 0.9932308197021484, 0.9773905873298645, 0.9846289157867432, 0.9971473217010498, 0.9804903268814087, 0.9524565935134888, 0.9932162761688232, 0.995032787322998, 0.992583155632019, 0.9509814977645874, 0.9928812384605408, 0.9904530644416809, 0.9834797978401184, 0.9984257221221924, 0.9945098161697388, 0.9980956315994263, 0.9984308481216431, 0.9654258489608765, 0.9809203743934631, 0.9823401570320129, 0.9941913485527039, 0.9980819821357727, 0.9844449758529663, 0.9845471978187561, 0.9895756244659424, 0.9678102731704712, 0.9984579682350159, 0.9656672477722168, 0.9743594527244568, 0.9800445437431335, 0.9989389181137085, 0.994322657585144, 0.9955633878707886, 0.9907125234603882, 0.9656919240951538, 0.971589207649231, 0.9729496836662292, 0.9892435073852539, 0.987305223941803, 0.978897213935852, 0.9982312917709351, 0.9901439547538757, 0.9847803711891174, 0.969509482383728, 0.9517765045166016, 0.9726530313491821, 0.9448933005332947, 0.9861101508140564, 0.9707672595977783, 0.9756624102592468, 0.98692387342453, 0.9723864197731018, 0.998816192150116, 0.9790427088737488, 0.9980750679969788, 0.9922179579734802, 0.9878591895103455, 0.9960584044456482, 0.9894324541091919, 0.9847466945648193, 0.9709383845329285, 0.9876996278762817, 0.993095874786377, 0.9834960699081421, 0.9919507503509521, 0.9936488270759583, 0.9957932829856873, 0.998703122138977, 0.991672933101654, 0.9993383884429932, 0.9875082969665527, 0.9904199242591858, 0.9968547821044922, 0.9994720220565796, 0.9932672381401062, 0.9992674589157104, 0.9906718134880066, 0.9822818040847778, 0.9947527647018433, 0.9979221820831299, 0.9888061881065369, 0.9831081032752991, 0.9813404679298401, 0.9450350403785706, 0.9793655872344971, 0.9620044827461243, 0.9945959448814392, 0.9926595091819763, 0.9838373064994812, 0.9013847708702087, 0.9824635982513428, 0.9897043108940125, 0.9853360056877136, 0.9718211889266968, 0.9969629645347595, 0.9935410618782043, 0.9602435231208801, 0.9857146739959717, 0.9902337193489075, 0.9682729840278625, 0.9975974559783936, 0.9588271975517273, 0.9790289402008057, 0.989478588104248, 0.948689341545105, 0.9854874014854431, 0.9930583238601685, 0.9984013438224792, 0.9947341680526733, 0.9801226854324341, 0.9766404032707214, 0.9897831082344055, 0.9928237199783325, 0.9964004158973694, 0.9807339906692505, 0.9966776967048645, 0.9897584319114685, 0.997937023639679, 0.9872997999191284, 0.9774901270866394, 0.9962487816810608, 0.998552143573761, 0.9828031063079834, 0.9948410987854004, 0.9962238073348999, 0.9688830375671387, 0.9869621992111206, 0.9928354620933533, 0.9688668847084045, 0.9955233335494995, 0.9739235043525696, 0.9804257154464722, 0.9681729674339294, 0.9826777577400208, 0.9894763231277466, 0.9944528341293335, 0.9967015385627747, 0.9940542578697205, 0.9517841935157776, 0.9844962358474731, 0.8688337206840515, 0.9533084630966187, 0.9713852405548096, 0.9780727028846741, 0.9964647889137268, 0.9799249172210693, 0.9972963333129883, 0.9864463806152344, 0.9994443655014038, 0.9941543340682983, 0.9933967590332031, 0.9850930571556091, 0.9950511455535889, 0.9777825474739075, 0.9950816631317139, 0.9973292946815491, 0.993781328201294, 0.9979145526885986, 0.9913865327835083, 0.9892020225524902, 0.9935712218284607, 0.9600754380226135, 0.9869709014892578, 0.9617693424224854, 0.997239887714386, 0.9866074323654175, 0.9911230206489563, 0.9837549328804016, 0.9710037708282471, 0.9780919551849365, 0.9560697674751282, 0.9975586533546448, 0.994897723197937, 0.9928655028343201, 0.9846724271774292, 0.8829917907714844, 0.995219886302948, 0.9883755445480347, 0.9574506878852844, 0.9949647188186646, 0.9101275205612183, 0.9938173294067383, 0.9929225444793701, 0.9767473340034485], \"Term\": [\"access\", \"accessory\", \"alarm\", \"amount\", \"android\", \"anything\", \"app\", \"application\", \"apps\", \"aspect\", \"atmos\", \"auto\", \"awesome\", \"backup\", \"bar\", \"battery\", \"beast\", \"bhi\", \"bill\", \"bit\", \"blur\", \"body\", \"bokeh\", \"box\", \"brand\", \"brightness\", \"browsing\", \"budget\", \"bug\", \"button\", \"buy\", \"buying\", \"cable\", \"call\", \"cam\", \"camera\", \"card\", \"care\", \"case\", \"cast\", \"category\", \"center\", \"centre\", \"charge\", \"charger\", \"charging\", \"check\", \"china\", \"choice\", \"claim\", \"clarity\", \"class\", \"color\", \"company\", \"compare\", \"complain\", \"complaint\", \"con\", \"concern\", \"condition\", \"connection\", \"connectivity\", \"contact\", \"core\", \"cost\", \"cover\", \"customer\", \"data\", \"date\", \"day\", \"daylight\", \"deal\", \"deca\", \"defect\", \"delivery\", \"depth\", \"description\", \"design\", \"detail\", \"device\", \"didnt\", \"difference\", \"display\", \"dnt\", \"doesnt\", \"dolby\", \"dont\", \"drain\", \"draining\", \"earphone\", \"edge\", \"effect\", \"etc\", \"everyone\", \"everything\", \"excellent\", \"expectation\", \"experience\", \"face\", \"facility\", \"fall\", \"faulty\", \"feature\", \"feel\", \"feeling\", \"fine\", \"finger\", \"fingerprint\", \"fire\", \"fix\", \"flash\", \"fone\", \"friend\", \"front\", \"function\", \"functionality\", \"gallery\", \"game\", \"gb\", \"get\", \"glass\", \"good\", \"gorilla\", \"guard\", \"gud\", \"guy\", \"hand\", \"handset\", \"hang\", \"hardware\", \"headphone\", \"headset\", \"heat\", \"heating\", \"hell\", \"hence\", \"hi\", \"ho\", \"hope\", \"hour\", \"hr\", \"iam\", \"idea\", \"im\", \"image\", \"improvement\", \"interface\", \"internet\", \"issue\", \"item\", \"jata\", \"jio\", \"key\", \"killer\", \"ko\", \"lack\", \"lag\", \"lenovo\", \"level\", \"life\", \"light\", \"look\", \"lot\", \"lte\", \"mah\", \"maine\", \"management\", \"mark\", \"market\", \"matter\", \"memory\", \"message\", \"mi\", \"mila\", \"min\", \"minute\", \"mobile\", \"mode\", \"model\", \"money\", \"month\", \"morning\", \"moto\", \"motorola\", \"mp\", \"music\", \"n\", \"nd\", \"need\", \"net\", \"network\", \"nhi\", \"nice\", \"night\", \"note\", \"nothing\", \"notification\", \"number\", \"o\", \"oct\", \"october\", \"offer\", \"ok\", \"one\", \"option\", \"oreo\", \"others\", \"package\", \"packing\", \"paper\", \"par\", \"part\", \"party\", \"pc\", \"people\", \"percent\", \"performance\", \"person\", \"phone\", \"photo\", \"pic\", \"picture\", \"piece\", \"place\", \"play\", \"player\", \"pls\", \"plz\", \"point\", \"policy\", \"power\", \"price\", \"pro\", \"problem\", \"processer\", \"processing\", \"processor\", \"product\", \"purchase\", \"quality\", \"r\", \"raha\", \"ram\", \"range\", \"rating\", \"reason\", \"reception\", \"record\", \"recorder\", \"recording\", \"refund\", \"replacement\", \"request\", \"reset\", \"resolution\", \"response\", \"rest\", \"result\", \"return\", \"review\", \"right\", \"sale\", \"samsung\", \"saver\", \"screen\", \"second\", \"segment\", \"selfie\", \"sell\", \"seller\", \"sensor\", \"service\", \"set\", \"setting\", \"show\", \"side\", \"signal\", \"sim\", \"size\", \"slot\", \"smartphone\", \"software\", \"someone\", \"something\", \"sound\", \"speaker\", \"spec\", \"specification\", \"speed\", \"split\", \"standby\", \"star\", \"start\", \"stock\", \"storage\", \"strength\", \"suck\", \"suggestion\", \"super\", \"superb\", \"support\", \"system\", \"tag\", \"team\", \"technician\", \"test\", \"tha\", \"thank\", \"thanks\", \"thats\", \"thing\", \"till\", \"time\", \"today\", \"touch\", \"tray\", \"turbo\", \"tv\", \"u\", \"update\", \"usage\", \"use\", \"user\", \"v\", \"value\", \"venom\", \"version\", \"vibe\", \"video\", \"voice\", \"volta\", \"volume\", \"vr\", \"warranty\", \"wastage\", \"waste\", \"way\", \"week\", \"weight\", \"west\", \"wifi\", \"wont\", \"word\", \"work\", \"working\", \"worth\", \"x\", \"year\"]}, \"R\": 30, \"lambda.step\": 0.01, \"plot.opts\": {\"xlab\": \"PC1\", \"ylab\": \"PC2\"}, \"topic.order\": [2, 11, 9, 10, 6, 7, 12, 8, 4, 3, 5, 1]};\n",
       "\n",
       "function LDAvis_load_lib(url, callback){\n",
       "  var s = document.createElement('script');\n",
       "  s.src = url;\n",
       "  s.async = true;\n",
       "  s.onreadystatechange = s.onload = callback;\n",
       "  s.onerror = function(){console.warn(\"failed to load library \" + url);};\n",
       "  document.getElementsByTagName(\"head\")[0].appendChild(s);\n",
       "}\n",
       "\n",
       "if(typeof(LDAvis) !== \"undefined\"){\n",
       "   // already loaded: just create the visualization\n",
       "   !function(LDAvis){\n",
       "       new LDAvis(\"#\" + \"ldavis_el1152822572917777362914901039\", ldavis_el1152822572917777362914901039_data);\n",
       "   }(LDAvis);\n",
       "}else if(typeof define === \"function\" && define.amd){\n",
       "   // require.js is available: use it to load d3/LDAvis\n",
       "   require.config({paths: {d3: \"https://cdnjs.cloudflare.com/ajax/libs/d3/3.5.5/d3.min\"}});\n",
       "   require([\"d3\"], function(d3){\n",
       "      window.d3 = d3;\n",
       "      LDAvis_load_lib(\"https://cdn.rawgit.com/bmabey/pyLDAvis/files/ldavis.v1.0.0.js\", function(){\n",
       "        new LDAvis(\"#\" + \"ldavis_el1152822572917777362914901039\", ldavis_el1152822572917777362914901039_data);\n",
       "      });\n",
       "    });\n",
       "}else{\n",
       "    // require.js not available: dynamically load d3 & LDAvis\n",
       "    LDAvis_load_lib(\"https://cdnjs.cloudflare.com/ajax/libs/d3/3.5.5/d3.min.js\", function(){\n",
       "         LDAvis_load_lib(\"https://cdn.rawgit.com/bmabey/pyLDAvis/files/ldavis.v1.0.0.js\", function(){\n",
       "                 new LDAvis(\"#\" + \"ldavis_el1152822572917777362914901039\", ldavis_el1152822572917777362914901039_data);\n",
       "            })\n",
       "         });\n",
       "}\n",
       "</script>"
      ],
      "text/plain": [
       "PreparedData(topic_coordinates=              x         y  topics  cluster       Freq\n",
       "topic                                                \n",
       "1      0.380325 -0.228582       1        1  17.895267\n",
       "10     0.093682  0.162195       2        1  13.741387\n",
       "8      0.138338  0.349502       3        1  13.324287\n",
       "9     -0.001857  0.000534       4        1   9.301837\n",
       "5     -0.023660 -0.013694       5        1   9.180356\n",
       "6     -0.060118 -0.031273       6        1   7.568035\n",
       "11    -0.064980 -0.032598       7        1   6.427260\n",
       "7     -0.083473 -0.039325       8        1   6.092203\n",
       "3     -0.090162 -0.041217       9        1   5.205465\n",
       "2     -0.087810 -0.040483      10        1   5.183928\n",
       "4     -0.096563 -0.042750      11        1   4.433657\n",
       "0     -0.103723 -0.042308      12        1   1.646310, topic_info=                   Term         Freq        Total Category  logprob  loglift\n",
       "3               battery  3453.000000  3453.000000  Default  30.0000  30.0000\n",
       "59               camera  3880.000000  3880.000000  Default  29.0000  29.0000\n",
       "51              product  2415.000000  2415.000000  Default  28.0000  28.0000\n",
       "16              problem  1871.000000  1871.000000  Default  27.0000  27.0000\n",
       "75                issue  1554.000000  1554.000000  Default  26.0000  26.0000\n",
       "...                 ...          ...          ...      ...      ...      ...\n",
       "6515  replacementissues     0.073033     1.156342  Topic12  -9.7703   1.3445\n",
       "6514         modelscast     0.073033     1.156342  Topic12  -9.7703   1.3445\n",
       "6513        atmosamazon     0.073033     1.156342  Topic12  -9.7703   1.3445\n",
       "6516         voltepower     0.073033     1.156342  Topic12  -9.7703   1.3445\n",
       "3330            useless     0.073240     1.298880  Topic12  -9.7675   1.2311\n",
       "\n",
       "[398 rows x 6 columns], token_table=      Topic      Freq       Term\n",
       "term                            \n",
       "1412      9  0.966975     access\n",
       "365       6  0.980182  accessory\n",
       "1650      4  0.943419      alarm\n",
       "389       6  0.977117     amount\n",
       "187       5  0.996073    android\n",
       "...     ...       ...        ...\n",
       "126       5  0.994965       work\n",
       "943      12  0.910128    working\n",
       "448       7  0.993817      worth\n",
       "554       1  0.992923          x\n",
       "28        2  0.976747       year\n",
       "\n",
       "[348 rows x 3 columns], R=30, lambda_step=0.01, plot_opts={'xlab': 'PC1', 'ylab': 'PC2'}, topic_order=[2, 11, 9, 10, 6, 7, 12, 8, 4, 3, 5, 1])"
      ]
     },
     "execution_count": 98,
     "metadata": {},
     "output_type": "execute_result"
    }
   ],
   "source": [
    "vis = pyLDAvis.gensim.prepare(lda_model, corpus, id2word)\n",
    "vis"
   ]
  },
  {
   "cell_type": "code",
   "execution_count": 149,
   "metadata": {},
   "outputs": [],
   "source": [
    "lda_model_2 = gensim.models.ldamodel.LdaModel(corpus=corpus,\n",
    "                                           id2word=id2word,\n",
    "                                           num_topics=3, \n",
    "                                           random_state=100,\n",
    "                                           update_every=1,\n",
    "                                           chunksize=100,\n",
    "                                           passes=10,\n",
    "                                           alpha='symmetric',\n",
    "                                           decay=.4,\n",
    "                                           per_word_topics=True)"
   ]
  },
  {
   "cell_type": "code",
   "execution_count": 150,
   "metadata": {},
   "outputs": [
    {
     "name": "stdout",
     "output_type": "stream",
     "text": [
      "\n",
      "Coherence Score:  0.5558486403857085\n"
     ]
    }
   ],
   "source": [
    "coherence_model_lda_2 = CoherenceModel(model=lda_model_2, texts=english_only_nouns, dictionary=id2word, coherence='c_v')\n",
    "coherence_lda_2 = coherence_model_lda_2.get_coherence()\n",
    "print('\\nCoherence Score: ', coherence_lda_2)"
   ]
  },
  {
   "cell_type": "code",
   "execution_count": 151,
   "metadata": {
    "collapsed": true,
    "jupyter": {
     "outputs_hidden": true
    }
   },
   "outputs": [
    {
     "data": {
      "text/html": [
       "\n",
       "<link rel=\"stylesheet\" type=\"text/css\" href=\"https://cdn.rawgit.com/bmabey/pyLDAvis/files/ldavis.v1.0.0.css\">\n",
       "\n",
       "\n",
       "<div id=\"ldavis_el1152822572479970001696576368\"></div>\n",
       "<script type=\"text/javascript\">\n",
       "\n",
       "var ldavis_el1152822572479970001696576368_data = {\"mdsDat\": {\"x\": [-0.3178204784860305, 0.11091620498877751, 0.20690427349725285], \"y\": [0.052654887044433434, -0.2878412179182303, 0.2351863308737969], \"topics\": [1, 2, 3], \"cluster\": [1, 1, 1], \"Freq\": [42.14118576049805, 29.25858497619629, 28.600236892700195]}, \"tinfo\": {\"Term\": [\"camera\", \"product\", \"battery\", \"problem\", \"issue\", \"note\", \"quality\", \"lenovo\", \"price\", \"money\", \"feature\", \"heating\", \"network\", \"month\", \"performance\", \"screen\", \"service\", \"device\", \"call\", \"update\", \"software\", \"charger\", \"heat\", \"waste\", \"time\", \"dont\", \"day\", \"backup\", \"sim\", \"hour\", \"camera\", \"battery\", \"quality\", \"price\", \"performance\", \"feature\", \"backup\", \"range\", \"hour\", \"processor\", \"mode\", \"life\", \"sound\", \"display\", \"everything\", \"charge\", \"speaker\", \"music\", \"bit\", \"speed\", \"video\", \"android\", \"ram\", \"work\", \"usage\", \"mark\", \"gb\", \"depth\", \"stock\", \"game\", \"card\", \"dolby\", \"day\", \"time\", \"product\", \"problem\", \"issue\", \"money\", \"heating\", \"network\", \"month\", \"service\", \"device\", \"waste\", \"heat\", \"dont\", \"customer\", \"return\", \"value\", \"signal\", \"box\", \"system\", \"replacement\", \"hang\", \"center\", \"refund\", \"purchase\", \"piece\", \"policy\", \"worth\", \"care\", \"im\", \"headphone\", \"cost\", \"internet\", \"time\", \"day\", \"buy\", \"lot\", \"experience\", \"note\", \"lenovo\", \"screen\", \"call\", \"update\", \"charger\", \"software\", \"sim\", \"option\", \"delivery\", \"support\", \"handset\", \"turbo\", \"superb\", \"data\", \"ho\", \"app\", \"hr\", \"glass\", \"killer\", \"volta\", \"star\", \"contact\", \"budget\", \"notification\", \"button\", \"model\", \"company\", \"cast\", \"u\", \"touch\", \"phone\"], \"Freq\": [3333.0, 2176.0, 2938.0, 1593.0, 1375.0, 1161.0, 1232.0, 688.0, 907.0, 613.0, 871.0, 596.0, 574.0, 555.0, 784.0, 509.0, 446.0, 443.0, 433.0, 420.0, 384.0, 382.0, 374.0, 373.0, 910.0, 345.0, 952.0, 467.0, 280.0, 399.0, 3332.54345703125, 2938.148193359375, 1232.2125244140625, 906.488525390625, 783.4215087890625, 870.9154052734375, 466.5516662597656, 382.8710632324219, 399.228515625, 364.11669921875, 365.8183288574219, 336.53271484375, 306.4877624511719, 343.1331787109375, 286.9165954589844, 331.68243408203125, 293.5456237792969, 272.0484313964844, 285.12860107421875, 274.4447326660156, 256.8111572265625, 226.39537048339844, 190.84156799316406, 225.6087646484375, 190.13832092285156, 176.79920959472656, 196.70240783691406, 165.55323791503906, 199.4114990234375, 176.31048583984375, 191.4782257080078, 178.39634704589844, 450.85089111328125, 375.6990661621094, 2175.33642578125, 1592.773681640625, 1375.2127685546875, 613.0160522460938, 595.7423095703125, 573.3291625976562, 555.1142578125, 445.9292297363281, 442.99505615234375, 372.3461608886719, 374.035400390625, 345.1383361816406, 233.94044494628906, 207.53713989257812, 191.29136657714844, 197.58055114746094, 149.76206970214844, 167.3264923095703, 140.48187255859375, 162.5638885498047, 129.14315795898438, 165.845947265625, 114.75957489013672, 107.1558609008789, 103.66676330566406, 107.82673645019531, 93.60035705566406, 113.69779205322266, 103.15917205810547, 88.58768463134766, 111.1469497680664, 534.53076171875, 501.63580322265625, 190.43893432617188, 126.38129425048828, 109.9499282836914, 1160.3040771484375, 687.6869506835938, 508.9228515625, 432.27880859375, 419.772705078125, 382.09954833984375, 383.6448974609375, 280.1917419433594, 269.7044372558594, 263.47760009765625, 222.0774383544922, 189.95816040039062, 211.08900451660156, 182.0980682373047, 160.0533447265625, 152.83676147460938, 168.90126037597656, 177.1394805908203, 140.210205078125, 140.60861206054688, 155.4724884033203, 144.74583435058594, 131.7527618408203, 195.62623596191406, 139.63385009765625, 137.122802734375, 129.7110137939453, 137.93603515625, 106.90042114257812, 117.67279815673828, 147.29168701171875, 149.0869903564453], \"Total\": [3333.0, 2176.0, 2938.0, 1593.0, 1375.0, 1161.0, 1232.0, 688.0, 907.0, 613.0, 871.0, 596.0, 574.0, 555.0, 784.0, 509.0, 446.0, 443.0, 433.0, 420.0, 384.0, 382.0, 374.0, 373.0, 910.0, 345.0, 952.0, 467.0, 280.0, 399.0, 3333.260986328125, 2938.920654296875, 1232.94189453125, 907.2229614257812, 784.1383056640625, 871.7156372070312, 467.2537841796875, 383.5853271484375, 399.9906005859375, 364.8282775878906, 366.54290771484375, 337.31317138671875, 307.2144470214844, 343.9515380859375, 287.6283264160156, 332.52996826171875, 294.33367919921875, 272.7811584472656, 285.9422607421875, 275.2450256347656, 257.56109619140625, 227.21188354492188, 191.55633544921875, 226.48281860351562, 190.90191650390625, 177.5281524658203, 197.52139282226562, 166.24497985839844, 200.24966430664062, 177.06781005859375, 192.40130615234375, 179.32801818847656, 952.8822631835938, 910.6249389648438, 2176.05126953125, 1593.511962890625, 1375.9671630859375, 613.7080078125, 596.4671630859375, 574.073974609375, 555.884033203125, 446.64208984375, 443.7750549316406, 373.0553283691406, 374.805908203125, 345.8990173339844, 234.6625518798828, 208.2481231689453, 191.9972686767578, 198.40011596679688, 150.50233459472656, 168.18678283691406, 141.22023010253906, 163.49278259277344, 129.91348266601562, 166.85711669921875, 115.47418212890625, 107.87109375, 104.39681243896484, 108.61011505126953, 94.28746032714844, 114.55939483642578, 103.95549011230469, 89.31970977783203, 112.24449920654297, 910.6249389648438, 952.8822631835938, 291.9619140625, 259.8843688964844, 162.47019958496094, 1161.099609375, 688.4457397460938, 509.7076110839844, 433.0077209472656, 420.5999755859375, 382.8587646484375, 384.51544189453125, 280.9876708984375, 270.47149658203125, 264.31292724609375, 222.87310791015625, 190.70736694335938, 211.929931640625, 182.83680725097656, 160.7700653076172, 153.52740478515625, 169.66824340820312, 177.96656799316406, 140.9095001220703, 141.32537841796875, 156.26614379882812, 145.5172119140625, 132.47390747070312, 196.6978759765625, 140.43186950683594, 137.93153381347656, 130.5012664794922, 138.79904174804688, 107.59378814697266, 118.4786605834961, 149.13021850585938, 266.50616455078125], \"Category\": [\"Default\", \"Default\", \"Default\", \"Default\", \"Default\", \"Default\", \"Default\", \"Default\", \"Default\", \"Default\", \"Default\", \"Default\", \"Default\", \"Default\", \"Default\", \"Default\", \"Default\", \"Default\", \"Default\", \"Default\", \"Default\", \"Default\", \"Default\", \"Default\", \"Default\", \"Default\", \"Default\", \"Default\", \"Default\", \"Default\", \"Topic1\", \"Topic1\", \"Topic1\", \"Topic1\", \"Topic1\", \"Topic1\", \"Topic1\", \"Topic1\", \"Topic1\", \"Topic1\", \"Topic1\", \"Topic1\", \"Topic1\", \"Topic1\", \"Topic1\", \"Topic1\", \"Topic1\", \"Topic1\", \"Topic1\", \"Topic1\", \"Topic1\", \"Topic1\", \"Topic1\", \"Topic1\", \"Topic1\", \"Topic1\", \"Topic1\", \"Topic1\", \"Topic1\", \"Topic1\", \"Topic1\", \"Topic1\", \"Topic1\", \"Topic1\", \"Topic2\", \"Topic2\", \"Topic2\", \"Topic2\", \"Topic2\", \"Topic2\", \"Topic2\", \"Topic2\", \"Topic2\", \"Topic2\", \"Topic2\", \"Topic2\", \"Topic2\", \"Topic2\", \"Topic2\", \"Topic2\", \"Topic2\", \"Topic2\", \"Topic2\", \"Topic2\", \"Topic2\", \"Topic2\", \"Topic2\", \"Topic2\", \"Topic2\", \"Topic2\", \"Topic2\", \"Topic2\", \"Topic2\", \"Topic2\", \"Topic2\", \"Topic2\", \"Topic2\", \"Topic2\", \"Topic2\", \"Topic2\", \"Topic3\", \"Topic3\", \"Topic3\", \"Topic3\", \"Topic3\", \"Topic3\", \"Topic3\", \"Topic3\", \"Topic3\", \"Topic3\", \"Topic3\", \"Topic3\", \"Topic3\", \"Topic3\", \"Topic3\", \"Topic3\", \"Topic3\", \"Topic3\", \"Topic3\", \"Topic3\", \"Topic3\", \"Topic3\", \"Topic3\", \"Topic3\", \"Topic3\", \"Topic3\", \"Topic3\", \"Topic3\", \"Topic3\", \"Topic3\", \"Topic3\", \"Topic3\"], \"logprob\": [30.0, 29.0, 28.0, 27.0, 26.0, 25.0, 24.0, 23.0, 22.0, 21.0, 20.0, 19.0, 18.0, 17.0, 16.0, 15.0, 14.0, 13.0, 12.0, 11.0, 10.0, 9.0, 8.0, 7.0, 6.0, 5.0, 4.0, 3.0, 2.0, 1.0, -2.2844998836517334, -2.410399913787842, -3.279400110244751, -3.586400032043457, -3.732300043106079, -3.6263999938964844, -4.2505998611450195, -4.448200225830078, -4.406400203704834, -4.498499870300293, -4.493800163269043, -4.577199935913086, -4.67080020904541, -4.557799816131592, -4.736800193786621, -4.591800212860107, -4.713900089263916, -4.789999961853027, -4.743000030517578, -4.781199932098389, -4.847599983215332, -4.973700046539307, -5.144499778747559, -4.977099895477295, -5.148200035095215, -5.220900058746338, -5.114299774169922, -5.286600112915039, -5.100599765777588, -5.223700046539307, -5.141200065612793, -5.211900234222412, -4.284800052642822, -4.467199802398682, -2.3461999893188477, -2.657900094985962, -2.8046998977661133, -3.6126999855041504, -3.6412999629974365, -3.6796000003814697, -3.711899995803833, -3.9309000968933105, -3.9375, -4.111299991607666, -4.1066999435424805, -4.187099933624268, -4.576000213623047, -4.695799827575684, -4.777299880981445, -4.744900226593018, -5.021999835968018, -4.911099910736084, -5.085999965667725, -4.940000057220459, -5.170199871063232, -4.920000076293945, -5.288300037384033, -5.356800079345703, -5.389900207519531, -5.350599765777588, -5.492099761962891, -5.297500133514404, -5.394800186157227, -5.547100067138672, -5.320199966430664, -3.7497000694274902, -3.813199996948242, -4.781799793243408, -5.191800117492676, -5.331099987030029, -2.951900005340576, -3.4749999046325684, -3.7760000228881836, -3.939300060272217, -3.968600034713745, -4.062699794769287, -4.058599948883057, -4.372900009155273, -4.410999774932861, -4.4344000816345215, -4.605299949645996, -4.761499881744385, -4.656099796295166, -4.803800106048584, -4.932799816131592, -4.979000091552734, -4.879000186920166, -4.831399917602539, -5.065199851989746, -5.062399864196777, -4.961900234222412, -5.033400058746338, -5.127399921417236, -4.732100009918213, -5.069300174713135, -5.087500095367432, -5.14300012588501, -5.081500053405762, -5.336400032043457, -5.2403998374938965, -5.015900135040283, -5.003799915313721], \"loglift\": [30.0, 29.0, 28.0, 27.0, 26.0, 25.0, 24.0, 23.0, 22.0, 21.0, 20.0, 19.0, 18.0, 17.0, 16.0, 15.0, 14.0, 13.0, 12.0, 11.0, 10.0, 9.0, 8.0, 7.0, 6.0, 5.0, 4.0, 3.0, 2.0, 1.0, 0.8639000058174133, 0.8639000058174133, 0.8636000156402588, 0.8633000254631042, 0.8632000088691711, 0.8632000088691711, 0.8626000285148621, 0.8622999787330627, 0.8622000217437744, 0.8622000217437744, 0.8622000217437744, 0.8618000149726868, 0.8618000149726868, 0.8618000149726868, 0.8616999983787537, 0.8615999817848206, 0.8615000247955322, 0.8615000247955322, 0.861299991607666, 0.8611999750137329, 0.8611999750137329, 0.8604999780654907, 0.8604000210762024, 0.8603000044822693, 0.8600999712944031, 0.8600000143051147, 0.8600000143051147, 0.8600000143051147, 0.8600000143051147, 0.8598999977111816, 0.8593000173568726, 0.8589000105857849, 0.11580000072717667, -0.021199999377131462, 1.228700041770935, 1.2285000085830688, 1.2283999919891357, 1.2279000282287598, 1.2278000116348267, 1.2276999950408936, 1.2275999784469604, 1.2273999452590942, 1.2272000312805176, 1.2271000146865845, 1.2268999814987183, 1.2267999649047852, 1.2259000539779663, 1.225600004196167, 1.2252999544143677, 1.2249000072479248, 1.2240999937057495, 1.2238999605178833, 1.2237999439239502, 1.2232999801635742, 1.2230000495910645, 1.2229000329971313, 1.2228000164031982, 1.2223000526428223, 1.222000002861023, 1.2217999696731567, 1.2216999530792236, 1.2214000225067139, 1.2213000059127808, 1.2208000421524048, 1.2192000150680542, 0.6963000297546387, 0.5874000191688538, 0.8016999959945679, 0.5080999732017517, 0.8385000228881836, 1.251099944114685, 1.2506999969482422, 1.2502000331878662, 1.250100016593933, 1.2497999668121338, 1.2497999668121338, 1.249500036239624, 1.248900055885315, 1.248900055885315, 1.2486000061035156, 1.2482000589370728, 1.2477999925613403, 1.2477999925613403, 1.2476999759674072, 1.2473000288009644, 1.2472000122070312, 1.2472000122070312, 1.2470999956130981, 1.2467999458312988, 1.2467000484466553, 1.2467000484466553, 1.246399998664856, 1.2462999820709229, 1.2462999820709229, 1.2460999488830566, 1.24590003490448, 1.2457000017166138, 1.2454999685287476, 1.245300054550171, 1.2448999881744385, 1.239400029182434, 0.6708999872207642]}, \"token.table\": {\"Topic\": [1, 3, 1, 1, 1, 2, 1, 3, 3, 1, 2, 3, 3, 1, 1, 2, 3, 2, 1, 3, 3, 3, 2, 2, 3, 1, 2, 3, 1, 2, 1, 1, 2, 1, 1, 2, 1, 1, 1, 3, 3, 1, 2, 2, 2, 2, 3, 1, 3, 2, 1, 2, 2, 3, 3, 1, 1, 2, 1, 1, 3, 2, 2, 1, 2, 3, 3, 3, 1, 1, 3, 2, 2, 1, 2, 1, 2, 2, 1, 1, 1, 2, 3, 2, 2, 3, 2, 2, 3, 3, 1, 1, 1, 3, 1, 3, 3, 2, 1, 2, 1, 2, 3, 3, 3, 3, 1, 2, 1, 3, 2, 1, 2], \"Freq\": [0.9946662783622742, 0.9960614442825317, 0.9994568824768066, 0.9996867179870605, 0.9967046976089478, 0.9966622591018677, 0.0050839390605688095, 0.9964520335197449, 0.9932463765144348, 0.00342510431073606, 0.650769829750061, 0.34593552350997925, 0.9976727366447449, 0.9999216794967651, 0.9927167296409607, 0.9969512224197388, 0.9944812059402466, 0.9929685592651367, 0.9984062314033508, 0.9977569580078125, 0.9942432045936584, 0.9964226484298706, 0.9964206218719482, 0.9971765875816345, 0.9952101707458496, 0.47330087423324585, 0.5268226861953735, 0.9950326681137085, 0.998526394367218, 0.9982535243034363, 0.997233510017395, 0.9925944805145264, 0.9974009394645691, 0.9978154897689819, 0.3200587034225464, 0.6770472526550293, 0.9991790652275085, 0.9939695000648499, 0.997360348701477, 0.9935454726219177, 0.9962908029556274, 0.006116477772593498, 0.996985912322998, 0.9908086657524109, 0.9978498220443726, 0.9992167949676514, 0.9965647459030151, 0.9975234270095825, 0.9945688247680664, 0.9951170086860657, 0.00890912301838398, 0.9889125823974609, 0.9992970824241638, 0.997697651386261, 0.9993525147438049, 0.9990715980529785, 0.5117660760879517, 0.4848310053348541, 0.9970249533653259, 0.9985188245773315, 0.9961588978767395, 0.9988463521003723, 0.9984096884727478, 0.9971362948417664, 0.9981291890144348, 0.9990529417991638, 0.9969246983528137, 0.9982567429542542, 0.9985483288764954, 0.4390142261981964, 0.5590865015983582, 0.9919247031211853, 0.9961990118026733, 0.9986519813537598, 0.9996787309646606, 0.9977296590805054, 0.9995169043540955, 0.9958935976028442, 0.9992360472679138, 0.9970957040786743, 0.9984740614891052, 0.9948631525039673, 0.005993151571601629, 0.9913593530654907, 0.9988085031509399, 0.9986117482185364, 0.9985623955726624, 0.9979832768440247, 0.9964849948883057, 0.9986594915390015, 0.9960469007492065, 0.9988663196563721, 0.9954766631126404, 0.9964457154273987, 0.9937594532966614, 0.9954231977462769, 0.9960824847221375, 0.9929436445236206, 0.4129032492637634, 0.5875086188316345, 0.006705549079924822, 0.006705549079924822, 0.9857156872749329, 0.9956120848655701, 0.9959599375724792, 0.9985735416412354, 0.9952754974365234, 0.9948058128356934, 0.9978215098381042, 0.9918975234031677, 0.9971711039543152, 0.9978681802749634, 0.9943825006484985], \"Term\": [\"android\", \"app\", \"backup\", \"battery\", \"bit\", \"box\", \"budget\", \"budget\", \"button\", \"buy\", \"buy\", \"buy\", \"call\", \"camera\", \"card\", \"care\", \"cast\", \"center\", \"charge\", \"charger\", \"company\", \"contact\", \"cost\", \"customer\", \"data\", \"day\", \"day\", \"delivery\", \"depth\", \"device\", \"display\", \"dolby\", \"dont\", \"everything\", \"experience\", \"experience\", \"feature\", \"game\", \"gb\", \"glass\", \"handset\", \"hang\", \"hang\", \"headphone\", \"heat\", \"heating\", \"ho\", \"hour\", \"hr\", \"im\", \"internet\", \"internet\", \"issue\", \"killer\", \"lenovo\", \"life\", \"lot\", \"lot\", \"mark\", \"mode\", \"model\", \"money\", \"month\", \"music\", \"network\", \"note\", \"notification\", \"option\", \"performance\", \"phone\", \"phone\", \"piece\", \"policy\", \"price\", \"problem\", \"processor\", \"product\", \"purchase\", \"quality\", \"ram\", \"range\", \"refund\", \"refund\", \"replacement\", \"return\", \"screen\", \"service\", \"signal\", \"sim\", \"software\", \"sound\", \"speaker\", \"speed\", \"star\", \"stock\", \"superb\", \"support\", \"system\", \"time\", \"time\", \"touch\", \"touch\", \"touch\", \"turbo\", \"u\", \"update\", \"usage\", \"value\", \"video\", \"volta\", \"waste\", \"work\", \"worth\"]}, \"R\": 30, \"lambda.step\": 0.01, \"plot.opts\": {\"xlab\": \"PC1\", \"ylab\": \"PC2\"}, \"topic.order\": [2, 1, 3]};\n",
       "\n",
       "function LDAvis_load_lib(url, callback){\n",
       "  var s = document.createElement('script');\n",
       "  s.src = url;\n",
       "  s.async = true;\n",
       "  s.onreadystatechange = s.onload = callback;\n",
       "  s.onerror = function(){console.warn(\"failed to load library \" + url);};\n",
       "  document.getElementsByTagName(\"head\")[0].appendChild(s);\n",
       "}\n",
       "\n",
       "if(typeof(LDAvis) !== \"undefined\"){\n",
       "   // already loaded: just create the visualization\n",
       "   !function(LDAvis){\n",
       "       new LDAvis(\"#\" + \"ldavis_el1152822572479970001696576368\", ldavis_el1152822572479970001696576368_data);\n",
       "   }(LDAvis);\n",
       "}else if(typeof define === \"function\" && define.amd){\n",
       "   // require.js is available: use it to load d3/LDAvis\n",
       "   require.config({paths: {d3: \"https://cdnjs.cloudflare.com/ajax/libs/d3/3.5.5/d3.min\"}});\n",
       "   require([\"d3\"], function(d3){\n",
       "      window.d3 = d3;\n",
       "      LDAvis_load_lib(\"https://cdn.rawgit.com/bmabey/pyLDAvis/files/ldavis.v1.0.0.js\", function(){\n",
       "        new LDAvis(\"#\" + \"ldavis_el1152822572479970001696576368\", ldavis_el1152822572479970001696576368_data);\n",
       "      });\n",
       "    });\n",
       "}else{\n",
       "    // require.js not available: dynamically load d3 & LDAvis\n",
       "    LDAvis_load_lib(\"https://cdnjs.cloudflare.com/ajax/libs/d3/3.5.5/d3.min.js\", function(){\n",
       "         LDAvis_load_lib(\"https://cdn.rawgit.com/bmabey/pyLDAvis/files/ldavis.v1.0.0.js\", function(){\n",
       "                 new LDAvis(\"#\" + \"ldavis_el1152822572479970001696576368\", ldavis_el1152822572479970001696576368_data);\n",
       "            })\n",
       "         });\n",
       "}\n",
       "</script>"
      ],
      "text/plain": [
       "PreparedData(topic_coordinates=              x         y  topics  cluster       Freq\n",
       "topic                                                \n",
       "1     -0.317820  0.052655       1        1  42.141186\n",
       "0      0.110916 -0.287841       2        1  29.258585\n",
       "2      0.206904  0.235186       3        1  28.600237, topic_info=        Term         Freq        Total Category  logprob  loglift\n",
       "59    camera  3333.000000  3333.000000  Default  30.0000  30.0000\n",
       "51   product  2176.000000  2176.000000  Default  29.0000  29.0000\n",
       "3    battery  2938.000000  2938.000000  Default  28.0000  28.0000\n",
       "16   problem  1593.000000  1593.000000  Default  27.0000  27.0000\n",
       "75     issue  1375.000000  1375.000000  Default  26.0000  26.0000\n",
       "..       ...          ...          ...      ...      ...      ...\n",
       "522  company   137.936035   138.799042   Topic3  -5.0815   1.2455\n",
       "64      cast   106.900421   107.593788   Topic3  -5.3364   1.2453\n",
       "200        u   117.672798   118.478661   Topic3  -5.2404   1.2449\n",
       "295    touch   147.291687   149.130219   Topic3  -5.0159   1.2394\n",
       "235    phone   149.086990   266.506165   Topic3  -5.0038   0.6709\n",
       "\n",
       "[132 rows x 6 columns], token_table=      Topic      Freq     Term\n",
       "term                          \n",
       "187       1  0.994666  android\n",
       "608       3  0.996061      app\n",
       "2         1  0.999457   backup\n",
       "3         1  0.999687  battery\n",
       "282       1  0.996705      bit\n",
       "...     ...       ...      ...\n",
       "563       1  0.997822    video\n",
       "329       3  0.991898    volta\n",
       "176       2  0.997171    waste\n",
       "126       1  0.997868     work\n",
       "448       2  0.994383    worth\n",
       "\n",
       "[113 rows x 3 columns], R=30, lambda_step=0.01, plot_opts={'xlab': 'PC1', 'ylab': 'PC2'}, topic_order=[2, 1, 3])"
      ]
     },
     "execution_count": 151,
     "metadata": {},
     "output_type": "execute_result"
    }
   ],
   "source": [
    "vis_2 = pyLDAvis.gensim.prepare(lda_model_2, corpus, id2word)\n",
    "vis_2"
   ]
  },
  {
   "cell_type": "code",
   "execution_count": 153,
   "metadata": {},
   "outputs": [
    {
     "name": "stdout",
     "output_type": "stream",
     "text": [
      "[(0,\n",
      "  '0.096*\"product\" + 0.070*\"problem\" + 0.061*\"issue\" + 0.027*\"money\" + '\n",
      "  '0.026*\"heating\" + 0.025*\"network\" + 0.024*\"month\" + 0.024*\"time\" + '\n",
      "  '0.022*\"day\" + 0.020*\"service\"'),\n",
      " (1,\n",
      "  '0.102*\"camera\" + 0.090*\"battery\" + 0.038*\"quality\" + 0.028*\"price\" + '\n",
      "  '0.027*\"feature\" + 0.024*\"performance\" + 0.014*\"backup\" + 0.014*\"day\" + '\n",
      "  '0.012*\"hour\" + 0.012*\"range\"'),\n",
      " (2,\n",
      "  '0.052*\"note\" + 0.031*\"lenovo\" + 0.023*\"screen\" + 0.019*\"call\" + '\n",
      "  '0.019*\"update\" + 0.017*\"software\" + 0.017*\"charger\" + 0.013*\"sim\" + '\n",
      "  '0.012*\"option\" + 0.012*\"delivery\"')]\n"
     ]
    }
   ],
   "source": [
    "pprint.pprint(lda_model_2.print_topics())"
   ]
  },
  {
   "cell_type": "code",
   "execution_count": 126,
   "metadata": {},
   "outputs": [],
   "source": [
    "topic_names = { 0 : 'Customer Service Experience',\n",
    "                1 : 'Phone performance and hardware',\n",
    "                2 : 'Phone features and user experience',}"
   ]
  },
  {
   "cell_type": "code",
   "execution_count": 158,
   "metadata": {},
   "outputs": [
    {
     "name": "stdout",
     "output_type": "stream",
     "text": [
      "\t Customer Service Experience\n",
      "\t-------------------------------\n",
      "\t\tproduct\n",
      "\t\tproblem\n",
      "\t\tissue\n",
      "\t\tmoney\n",
      "\t\theating\n",
      "\t\tnetwork\n",
      "\t\tmonth\n",
      "\t\ttime\n",
      "\t\tday\n",
      "\t\tservice\n",
      "\t\tdevice\n",
      "\t\theat\n",
      "\t\twaste\n",
      "\t\tdont\n",
      "\t\tcustomer\n",
      "\t\treturn\n",
      "\t\tsignal\n",
      "\t\tvalue\n",
      "\t\tbuy\n",
      "\t\tsystem\n",
      "\t-------------------------------\n",
      "\n",
      "\n",
      "\t Phone performance and hardware\n",
      "\t-------------------------------\n",
      "\t\tcamera\n",
      "\t\tbattery\n",
      "\t\tquality\n",
      "\t\tprice\n",
      "\t\tfeature\n",
      "\t\tperformance\n",
      "\t\tbackup\n",
      "\t\tday\n",
      "\t\thour\n",
      "\t\trange\n",
      "\t\ttime\n",
      "\t\tmode\n",
      "\t\tprocessor\n",
      "\t\tdisplay\n",
      "\t\tlife\n",
      "\t\tcharge\n",
      "\t\tsound\n",
      "\t\tspeaker\n",
      "\t\teverything\n",
      "\t\tbit\n",
      "\t-------------------------------\n",
      "\n",
      "\n",
      "\t Phone features and user experience\n",
      "\t-------------------------------\n",
      "\t\tnote\n",
      "\t\tlenovo\n",
      "\t\tscreen\n",
      "\t\tcall\n",
      "\t\tupdate\n",
      "\t\tsoftware\n",
      "\t\tcharger\n",
      "\t\tsim\n",
      "\t\toption\n",
      "\t\tdelivery\n",
      "\t\tsupport\n",
      "\t\tturbo\n",
      "\t\tbudget\n",
      "\t\thandset\n",
      "\t\tsuperb\n",
      "\t\thr\n",
      "\t\tapp\n",
      "\t\tdata\n",
      "\t\tvolta\n",
      "\t\tho\n",
      "\t-------------------------------\n",
      "\n",
      "\n"
     ]
    }
   ],
   "source": [
    "for topic_id in range(3):\n",
    "    terms = lda_model_2.get_topic_terms(topic_id, 20)\n",
    "    print(f'\\t {topic_names[topic_id]}')\n",
    "    print(f'\\t-------------------------------')\n",
    "    for tid, score in terms:        \n",
    "        print(f'\\t\\t{id2word[tid]}')\n",
    "    print(f'\\t-------------------------------\\n\\n')"
   ]
  }
 ],
 "metadata": {
  "kernelspec": {
   "display_name": "Python 3",
   "language": "python",
   "name": "python3"
  },
  "language_info": {
   "codemirror_mode": {
    "name": "ipython",
    "version": 3
   },
   "file_extension": ".py",
   "mimetype": "text/x-python",
   "name": "python",
   "nbconvert_exporter": "python",
   "pygments_lexer": "ipython3",
   "version": "3.7.7"
  }
 },
 "nbformat": 4,
 "nbformat_minor": 4
}
